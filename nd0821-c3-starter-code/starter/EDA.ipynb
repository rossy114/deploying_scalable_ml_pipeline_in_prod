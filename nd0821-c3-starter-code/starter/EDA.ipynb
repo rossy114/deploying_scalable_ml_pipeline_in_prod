{
 "cells": [
  {
   "cell_type": "code",
   "execution_count": 1,
   "id": "fedcc58d",
   "metadata": {},
   "outputs": [],
   "source": [
    "import pandas as pd\n",
    "import numpy as np\n",
    "from numpy import std, mean\n",
    "import logging\n",
    "from sklearn.model_selection import train_test_split, KFold, cross_val_score\n",
    "from sklearn.preprocessing import LabelBinarizer, OneHotEncoder, LabelEncoder\n",
    "from sklearn.metrics import fbeta_score, precision_score, recall_score\n",
    "# from sklearn.ensemble import GradientBoostingClassifier\n",
    "from sklearn.ensemble import RandomForestClassifier\n",
    "import os\n"
   ]
  },
  {
   "cell_type": "code",
   "execution_count": 2,
   "id": "55f3245b",
   "metadata": {},
   "outputs": [],
   "source": [
    "# df = pd.read_csv(\"data/census.csv\", skipinitialspace = True)"
   ]
  },
  {
   "cell_type": "code",
   "execution_count": 3,
   "id": "88c8969f",
   "metadata": {},
   "outputs": [
    {
     "name": "stdout",
     "output_type": "stream",
     "text": [
      "\u001b[1m\u001b[36mclean\u001b[m\u001b[m \u001b[1m\u001b[36mmodel\u001b[m\u001b[m \u001b[1m\u001b[36mraw\u001b[m\u001b[m\r\n"
     ]
    }
   ],
   "source": [
    "!ls data/"
   ]
  },
  {
   "cell_type": "code",
   "execution_count": 4,
   "id": "aca59dbc",
   "metadata": {},
   "outputs": [],
   "source": [
    "df = pd.read_csv(\"data/raw/census.csv\")"
   ]
  },
  {
   "cell_type": "code",
   "execution_count": 5,
   "id": "67fc0333",
   "metadata": {},
   "outputs": [],
   "source": [
    "df.columns = df.columns.str.strip()"
   ]
  },
  {
   "cell_type": "code",
   "execution_count": 6,
   "id": "bf54d4e2",
   "metadata": {
    "scrolled": false
   },
   "outputs": [
    {
     "data": {
      "text/html": [
       "<div>\n",
       "<style scoped>\n",
       "    .dataframe tbody tr th:only-of-type {\n",
       "        vertical-align: middle;\n",
       "    }\n",
       "\n",
       "    .dataframe tbody tr th {\n",
       "        vertical-align: top;\n",
       "    }\n",
       "\n",
       "    .dataframe thead th {\n",
       "        text-align: right;\n",
       "    }\n",
       "</style>\n",
       "<table border=\"1\" class=\"dataframe\">\n",
       "  <thead>\n",
       "    <tr style=\"text-align: right;\">\n",
       "      <th></th>\n",
       "      <th>age</th>\n",
       "      <th>workclass</th>\n",
       "      <th>fnlgt</th>\n",
       "      <th>education</th>\n",
       "      <th>education-num</th>\n",
       "      <th>marital-status</th>\n",
       "      <th>occupation</th>\n",
       "      <th>relationship</th>\n",
       "      <th>race</th>\n",
       "      <th>sex</th>\n",
       "      <th>capital-gain</th>\n",
       "      <th>capital-loss</th>\n",
       "      <th>hours-per-week</th>\n",
       "      <th>native-country</th>\n",
       "      <th>salary</th>\n",
       "    </tr>\n",
       "  </thead>\n",
       "  <tbody>\n",
       "    <tr>\n",
       "      <th>0</th>\n",
       "      <td>39</td>\n",
       "      <td>State-gov</td>\n",
       "      <td>77516</td>\n",
       "      <td>Bachelors</td>\n",
       "      <td>13</td>\n",
       "      <td>Never-married</td>\n",
       "      <td>Adm-clerical</td>\n",
       "      <td>Not-in-family</td>\n",
       "      <td>White</td>\n",
       "      <td>Male</td>\n",
       "      <td>2174</td>\n",
       "      <td>0</td>\n",
       "      <td>40</td>\n",
       "      <td>United-States</td>\n",
       "      <td>&lt;=50K</td>\n",
       "    </tr>\n",
       "    <tr>\n",
       "      <th>1</th>\n",
       "      <td>50</td>\n",
       "      <td>Self-emp-not-inc</td>\n",
       "      <td>83311</td>\n",
       "      <td>Bachelors</td>\n",
       "      <td>13</td>\n",
       "      <td>Married-civ-spouse</td>\n",
       "      <td>Exec-managerial</td>\n",
       "      <td>Husband</td>\n",
       "      <td>White</td>\n",
       "      <td>Male</td>\n",
       "      <td>0</td>\n",
       "      <td>0</td>\n",
       "      <td>13</td>\n",
       "      <td>United-States</td>\n",
       "      <td>&lt;=50K</td>\n",
       "    </tr>\n",
       "    <tr>\n",
       "      <th>2</th>\n",
       "      <td>38</td>\n",
       "      <td>Private</td>\n",
       "      <td>215646</td>\n",
       "      <td>HS-grad</td>\n",
       "      <td>9</td>\n",
       "      <td>Divorced</td>\n",
       "      <td>Handlers-cleaners</td>\n",
       "      <td>Not-in-family</td>\n",
       "      <td>White</td>\n",
       "      <td>Male</td>\n",
       "      <td>0</td>\n",
       "      <td>0</td>\n",
       "      <td>40</td>\n",
       "      <td>United-States</td>\n",
       "      <td>&lt;=50K</td>\n",
       "    </tr>\n",
       "    <tr>\n",
       "      <th>3</th>\n",
       "      <td>53</td>\n",
       "      <td>Private</td>\n",
       "      <td>234721</td>\n",
       "      <td>11th</td>\n",
       "      <td>7</td>\n",
       "      <td>Married-civ-spouse</td>\n",
       "      <td>Handlers-cleaners</td>\n",
       "      <td>Husband</td>\n",
       "      <td>Black</td>\n",
       "      <td>Male</td>\n",
       "      <td>0</td>\n",
       "      <td>0</td>\n",
       "      <td>40</td>\n",
       "      <td>United-States</td>\n",
       "      <td>&lt;=50K</td>\n",
       "    </tr>\n",
       "    <tr>\n",
       "      <th>4</th>\n",
       "      <td>28</td>\n",
       "      <td>Private</td>\n",
       "      <td>338409</td>\n",
       "      <td>Bachelors</td>\n",
       "      <td>13</td>\n",
       "      <td>Married-civ-spouse</td>\n",
       "      <td>Prof-specialty</td>\n",
       "      <td>Wife</td>\n",
       "      <td>Black</td>\n",
       "      <td>Female</td>\n",
       "      <td>0</td>\n",
       "      <td>0</td>\n",
       "      <td>40</td>\n",
       "      <td>Cuba</td>\n",
       "      <td>&lt;=50K</td>\n",
       "    </tr>\n",
       "    <tr>\n",
       "      <th>5</th>\n",
       "      <td>37</td>\n",
       "      <td>Private</td>\n",
       "      <td>284582</td>\n",
       "      <td>Masters</td>\n",
       "      <td>14</td>\n",
       "      <td>Married-civ-spouse</td>\n",
       "      <td>Exec-managerial</td>\n",
       "      <td>Wife</td>\n",
       "      <td>White</td>\n",
       "      <td>Female</td>\n",
       "      <td>0</td>\n",
       "      <td>0</td>\n",
       "      <td>40</td>\n",
       "      <td>United-States</td>\n",
       "      <td>&lt;=50K</td>\n",
       "    </tr>\n",
       "    <tr>\n",
       "      <th>6</th>\n",
       "      <td>49</td>\n",
       "      <td>Private</td>\n",
       "      <td>160187</td>\n",
       "      <td>9th</td>\n",
       "      <td>5</td>\n",
       "      <td>Married-spouse-absent</td>\n",
       "      <td>Other-service</td>\n",
       "      <td>Not-in-family</td>\n",
       "      <td>Black</td>\n",
       "      <td>Female</td>\n",
       "      <td>0</td>\n",
       "      <td>0</td>\n",
       "      <td>16</td>\n",
       "      <td>Jamaica</td>\n",
       "      <td>&lt;=50K</td>\n",
       "    </tr>\n",
       "    <tr>\n",
       "      <th>7</th>\n",
       "      <td>52</td>\n",
       "      <td>Self-emp-not-inc</td>\n",
       "      <td>209642</td>\n",
       "      <td>HS-grad</td>\n",
       "      <td>9</td>\n",
       "      <td>Married-civ-spouse</td>\n",
       "      <td>Exec-managerial</td>\n",
       "      <td>Husband</td>\n",
       "      <td>White</td>\n",
       "      <td>Male</td>\n",
       "      <td>0</td>\n",
       "      <td>0</td>\n",
       "      <td>45</td>\n",
       "      <td>United-States</td>\n",
       "      <td>&gt;50K</td>\n",
       "    </tr>\n",
       "    <tr>\n",
       "      <th>8</th>\n",
       "      <td>31</td>\n",
       "      <td>Private</td>\n",
       "      <td>45781</td>\n",
       "      <td>Masters</td>\n",
       "      <td>14</td>\n",
       "      <td>Never-married</td>\n",
       "      <td>Prof-specialty</td>\n",
       "      <td>Not-in-family</td>\n",
       "      <td>White</td>\n",
       "      <td>Female</td>\n",
       "      <td>14084</td>\n",
       "      <td>0</td>\n",
       "      <td>50</td>\n",
       "      <td>United-States</td>\n",
       "      <td>&gt;50K</td>\n",
       "    </tr>\n",
       "    <tr>\n",
       "      <th>9</th>\n",
       "      <td>42</td>\n",
       "      <td>Private</td>\n",
       "      <td>159449</td>\n",
       "      <td>Bachelors</td>\n",
       "      <td>13</td>\n",
       "      <td>Married-civ-spouse</td>\n",
       "      <td>Exec-managerial</td>\n",
       "      <td>Husband</td>\n",
       "      <td>White</td>\n",
       "      <td>Male</td>\n",
       "      <td>5178</td>\n",
       "      <td>0</td>\n",
       "      <td>40</td>\n",
       "      <td>United-States</td>\n",
       "      <td>&gt;50K</td>\n",
       "    </tr>\n",
       "  </tbody>\n",
       "</table>\n",
       "</div>"
      ],
      "text/plain": [
       "   age          workclass   fnlgt   education  education-num  \\\n",
       "0   39          State-gov   77516   Bachelors             13   \n",
       "1   50   Self-emp-not-inc   83311   Bachelors             13   \n",
       "2   38            Private  215646     HS-grad              9   \n",
       "3   53            Private  234721        11th              7   \n",
       "4   28            Private  338409   Bachelors             13   \n",
       "5   37            Private  284582     Masters             14   \n",
       "6   49            Private  160187         9th              5   \n",
       "7   52   Self-emp-not-inc  209642     HS-grad              9   \n",
       "8   31            Private   45781     Masters             14   \n",
       "9   42            Private  159449   Bachelors             13   \n",
       "\n",
       "           marital-status          occupation    relationship    race  \\\n",
       "0           Never-married        Adm-clerical   Not-in-family   White   \n",
       "1      Married-civ-spouse     Exec-managerial         Husband   White   \n",
       "2                Divorced   Handlers-cleaners   Not-in-family   White   \n",
       "3      Married-civ-spouse   Handlers-cleaners         Husband   Black   \n",
       "4      Married-civ-spouse      Prof-specialty            Wife   Black   \n",
       "5      Married-civ-spouse     Exec-managerial            Wife   White   \n",
       "6   Married-spouse-absent       Other-service   Not-in-family   Black   \n",
       "7      Married-civ-spouse     Exec-managerial         Husband   White   \n",
       "8           Never-married      Prof-specialty   Not-in-family   White   \n",
       "9      Married-civ-spouse     Exec-managerial         Husband   White   \n",
       "\n",
       "       sex  capital-gain  capital-loss  hours-per-week  native-country  salary  \n",
       "0     Male          2174             0              40   United-States   <=50K  \n",
       "1     Male             0             0              13   United-States   <=50K  \n",
       "2     Male             0             0              40   United-States   <=50K  \n",
       "3     Male             0             0              40   United-States   <=50K  \n",
       "4   Female             0             0              40            Cuba   <=50K  \n",
       "5   Female             0             0              40   United-States   <=50K  \n",
       "6   Female             0             0              16         Jamaica   <=50K  \n",
       "7     Male             0             0              45   United-States    >50K  \n",
       "8   Female         14084             0              50   United-States    >50K  \n",
       "9     Male          5178             0              40   United-States    >50K  "
      ]
     },
     "execution_count": 6,
     "metadata": {},
     "output_type": "execute_result"
    }
   ],
   "source": [
    "df.head(10)"
   ]
  },
  {
   "cell_type": "code",
   "execution_count": 7,
   "id": "0ba9344c",
   "metadata": {},
   "outputs": [],
   "source": [
    "# lb = LabelEncoder() \n",
    "# df.salary = lb.fit_transform(df.salary)"
   ]
  },
  {
   "cell_type": "code",
   "execution_count": 8,
   "id": "e87a3e07",
   "metadata": {},
   "outputs": [
    {
     "data": {
      "text/plain": [
       " <=50K    24720\n",
       " >50K      7841\n",
       "Name: salary, dtype: int64"
      ]
     },
     "execution_count": 8,
     "metadata": {},
     "output_type": "execute_result"
    }
   ],
   "source": [
    "df.salary.value_counts()"
   ]
  },
  {
   "cell_type": "code",
   "execution_count": 9,
   "id": "afaa6b2c",
   "metadata": {},
   "outputs": [],
   "source": [
    "# !pip3 install pandas_profiling"
   ]
  },
  {
   "cell_type": "code",
   "execution_count": 10,
   "id": "822b5737",
   "metadata": {},
   "outputs": [],
   "source": [
    "# import pandas_profiling\n",
    "\n",
    "# profile = pandas_profiling.ProfileReport(df)\n",
    "# profile.to_widgets()"
   ]
  },
  {
   "cell_type": "code",
   "execution_count": 11,
   "id": "863e15d9",
   "metadata": {},
   "outputs": [],
   "source": [
    "df = df.drop_duplicates()"
   ]
  },
  {
   "cell_type": "code",
   "execution_count": 12,
   "id": "be67ab0a",
   "metadata": {},
   "outputs": [],
   "source": [
    "train_set, test_set = train_test_split(df, test_size=0.20, random_state=42, stratify=df.salary)"
   ]
  },
  {
   "cell_type": "code",
   "execution_count": 13,
   "id": "4be40610",
   "metadata": {},
   "outputs": [
    {
     "data": {
      "text/html": [
       "<div>\n",
       "<style scoped>\n",
       "    .dataframe tbody tr th:only-of-type {\n",
       "        vertical-align: middle;\n",
       "    }\n",
       "\n",
       "    .dataframe tbody tr th {\n",
       "        vertical-align: top;\n",
       "    }\n",
       "\n",
       "    .dataframe thead th {\n",
       "        text-align: right;\n",
       "    }\n",
       "</style>\n",
       "<table border=\"1\" class=\"dataframe\">\n",
       "  <thead>\n",
       "    <tr style=\"text-align: right;\">\n",
       "      <th></th>\n",
       "      <th>age</th>\n",
       "      <th>workclass</th>\n",
       "      <th>fnlgt</th>\n",
       "      <th>education</th>\n",
       "      <th>education-num</th>\n",
       "      <th>marital-status</th>\n",
       "      <th>occupation</th>\n",
       "      <th>relationship</th>\n",
       "      <th>race</th>\n",
       "      <th>sex</th>\n",
       "      <th>capital-gain</th>\n",
       "      <th>capital-loss</th>\n",
       "      <th>hours-per-week</th>\n",
       "      <th>native-country</th>\n",
       "      <th>salary</th>\n",
       "    </tr>\n",
       "  </thead>\n",
       "  <tbody>\n",
       "    <tr>\n",
       "      <th>24764</th>\n",
       "      <td>33</td>\n",
       "      <td>Private</td>\n",
       "      <td>279173</td>\n",
       "      <td>HS-grad</td>\n",
       "      <td>9</td>\n",
       "      <td>Married-civ-spouse</td>\n",
       "      <td>Prof-specialty</td>\n",
       "      <td>Husband</td>\n",
       "      <td>White</td>\n",
       "      <td>Male</td>\n",
       "      <td>0</td>\n",
       "      <td>0</td>\n",
       "      <td>60</td>\n",
       "      <td>United-States</td>\n",
       "      <td>&lt;=50K</td>\n",
       "    </tr>\n",
       "    <tr>\n",
       "      <th>9890</th>\n",
       "      <td>59</td>\n",
       "      <td>Private</td>\n",
       "      <td>271571</td>\n",
       "      <td>Some-college</td>\n",
       "      <td>10</td>\n",
       "      <td>Married-civ-spouse</td>\n",
       "      <td>Craft-repair</td>\n",
       "      <td>Husband</td>\n",
       "      <td>White</td>\n",
       "      <td>Male</td>\n",
       "      <td>15024</td>\n",
       "      <td>0</td>\n",
       "      <td>50</td>\n",
       "      <td>United-States</td>\n",
       "      <td>&gt;50K</td>\n",
       "    </tr>\n",
       "    <tr>\n",
       "      <th>2754</th>\n",
       "      <td>80</td>\n",
       "      <td>Self-emp-not-inc</td>\n",
       "      <td>184335</td>\n",
       "      <td>7th-8th</td>\n",
       "      <td>4</td>\n",
       "      <td>Married-civ-spouse</td>\n",
       "      <td>Farming-fishing</td>\n",
       "      <td>Husband</td>\n",
       "      <td>White</td>\n",
       "      <td>Male</td>\n",
       "      <td>0</td>\n",
       "      <td>0</td>\n",
       "      <td>30</td>\n",
       "      <td>United-States</td>\n",
       "      <td>&lt;=50K</td>\n",
       "    </tr>\n",
       "    <tr>\n",
       "      <th>5298</th>\n",
       "      <td>33</td>\n",
       "      <td>Private</td>\n",
       "      <td>100135</td>\n",
       "      <td>HS-grad</td>\n",
       "      <td>9</td>\n",
       "      <td>Married-civ-spouse</td>\n",
       "      <td>Adm-clerical</td>\n",
       "      <td>Wife</td>\n",
       "      <td>White</td>\n",
       "      <td>Female</td>\n",
       "      <td>0</td>\n",
       "      <td>1740</td>\n",
       "      <td>25</td>\n",
       "      <td>United-States</td>\n",
       "      <td>&lt;=50K</td>\n",
       "    </tr>\n",
       "  </tbody>\n",
       "</table>\n",
       "</div>"
      ],
      "text/plain": [
       "       age          workclass   fnlgt      education  education-num  \\\n",
       "24764   33            Private  279173        HS-grad              9   \n",
       "9890    59            Private  271571   Some-college             10   \n",
       "2754    80   Self-emp-not-inc  184335        7th-8th              4   \n",
       "5298    33            Private  100135        HS-grad              9   \n",
       "\n",
       "            marital-status        occupation relationship    race      sex  \\\n",
       "24764   Married-civ-spouse    Prof-specialty      Husband   White     Male   \n",
       "9890    Married-civ-spouse      Craft-repair      Husband   White     Male   \n",
       "2754    Married-civ-spouse   Farming-fishing      Husband   White     Male   \n",
       "5298    Married-civ-spouse      Adm-clerical         Wife   White   Female   \n",
       "\n",
       "       capital-gain  capital-loss  hours-per-week  native-country  salary  \n",
       "24764             0             0              60   United-States   <=50K  \n",
       "9890          15024             0              50   United-States    >50K  \n",
       "2754              0             0              30   United-States   <=50K  \n",
       "5298              0          1740              25   United-States   <=50K  "
      ]
     },
     "execution_count": 13,
     "metadata": {},
     "output_type": "execute_result"
    }
   ],
   "source": [
    "train_set.head(4)"
   ]
  },
  {
   "cell_type": "code",
   "execution_count": 14,
   "id": "f0f959d5",
   "metadata": {},
   "outputs": [
    {
     "data": {
      "text/html": [
       "<div>\n",
       "<style scoped>\n",
       "    .dataframe tbody tr th:only-of-type {\n",
       "        vertical-align: middle;\n",
       "    }\n",
       "\n",
       "    .dataframe tbody tr th {\n",
       "        vertical-align: top;\n",
       "    }\n",
       "\n",
       "    .dataframe thead th {\n",
       "        text-align: right;\n",
       "    }\n",
       "</style>\n",
       "<table border=\"1\" class=\"dataframe\">\n",
       "  <thead>\n",
       "    <tr style=\"text-align: right;\">\n",
       "      <th></th>\n",
       "      <th>age</th>\n",
       "      <th>workclass</th>\n",
       "      <th>fnlgt</th>\n",
       "      <th>education</th>\n",
       "      <th>education-num</th>\n",
       "      <th>marital-status</th>\n",
       "      <th>occupation</th>\n",
       "      <th>relationship</th>\n",
       "      <th>race</th>\n",
       "      <th>sex</th>\n",
       "      <th>capital-gain</th>\n",
       "      <th>capital-loss</th>\n",
       "      <th>hours-per-week</th>\n",
       "      <th>native-country</th>\n",
       "      <th>salary</th>\n",
       "    </tr>\n",
       "  </thead>\n",
       "  <tbody>\n",
       "    <tr>\n",
       "      <th>24764</th>\n",
       "      <td>33</td>\n",
       "      <td>Private</td>\n",
       "      <td>279173</td>\n",
       "      <td>HS-grad</td>\n",
       "      <td>9</td>\n",
       "      <td>Married-civ-spouse</td>\n",
       "      <td>Prof-specialty</td>\n",
       "      <td>Husband</td>\n",
       "      <td>White</td>\n",
       "      <td>Male</td>\n",
       "      <td>0</td>\n",
       "      <td>0</td>\n",
       "      <td>60</td>\n",
       "      <td>United-States</td>\n",
       "      <td>&lt;=50K</td>\n",
       "    </tr>\n",
       "    <tr>\n",
       "      <th>9890</th>\n",
       "      <td>59</td>\n",
       "      <td>Private</td>\n",
       "      <td>271571</td>\n",
       "      <td>Some-college</td>\n",
       "      <td>10</td>\n",
       "      <td>Married-civ-spouse</td>\n",
       "      <td>Craft-repair</td>\n",
       "      <td>Husband</td>\n",
       "      <td>White</td>\n",
       "      <td>Male</td>\n",
       "      <td>15024</td>\n",
       "      <td>0</td>\n",
       "      <td>50</td>\n",
       "      <td>United-States</td>\n",
       "      <td>&gt;50K</td>\n",
       "    </tr>\n",
       "    <tr>\n",
       "      <th>2754</th>\n",
       "      <td>80</td>\n",
       "      <td>Self-emp-not-inc</td>\n",
       "      <td>184335</td>\n",
       "      <td>7th-8th</td>\n",
       "      <td>4</td>\n",
       "      <td>Married-civ-spouse</td>\n",
       "      <td>Farming-fishing</td>\n",
       "      <td>Husband</td>\n",
       "      <td>White</td>\n",
       "      <td>Male</td>\n",
       "      <td>0</td>\n",
       "      <td>0</td>\n",
       "      <td>30</td>\n",
       "      <td>United-States</td>\n",
       "      <td>&lt;=50K</td>\n",
       "    </tr>\n",
       "    <tr>\n",
       "      <th>5298</th>\n",
       "      <td>33</td>\n",
       "      <td>Private</td>\n",
       "      <td>100135</td>\n",
       "      <td>HS-grad</td>\n",
       "      <td>9</td>\n",
       "      <td>Married-civ-spouse</td>\n",
       "      <td>Adm-clerical</td>\n",
       "      <td>Wife</td>\n",
       "      <td>White</td>\n",
       "      <td>Female</td>\n",
       "      <td>0</td>\n",
       "      <td>1740</td>\n",
       "      <td>25</td>\n",
       "      <td>United-States</td>\n",
       "      <td>&lt;=50K</td>\n",
       "    </tr>\n",
       "  </tbody>\n",
       "</table>\n",
       "</div>"
      ],
      "text/plain": [
       "       age          workclass   fnlgt      education  education-num  \\\n",
       "24764   33            Private  279173        HS-grad              9   \n",
       "9890    59            Private  271571   Some-college             10   \n",
       "2754    80   Self-emp-not-inc  184335        7th-8th              4   \n",
       "5298    33            Private  100135        HS-grad              9   \n",
       "\n",
       "            marital-status        occupation relationship    race      sex  \\\n",
       "24764   Married-civ-spouse    Prof-specialty      Husband   White     Male   \n",
       "9890    Married-civ-spouse      Craft-repair      Husband   White     Male   \n",
       "2754    Married-civ-spouse   Farming-fishing      Husband   White     Male   \n",
       "5298    Married-civ-spouse      Adm-clerical         Wife   White   Female   \n",
       "\n",
       "       capital-gain  capital-loss  hours-per-week  native-country  salary  \n",
       "24764             0             0              60   United-States   <=50K  \n",
       "9890          15024             0              50   United-States    >50K  \n",
       "2754              0             0              30   United-States   <=50K  \n",
       "5298              0          1740              25   United-States   <=50K  "
      ]
     },
     "execution_count": 14,
     "metadata": {},
     "output_type": "execute_result"
    }
   ],
   "source": [
    "train_set.head(4)"
   ]
  },
  {
   "cell_type": "code",
   "execution_count": 15,
   "id": "6138eb0e",
   "metadata": {},
   "outputs": [
    {
     "data": {
      "text/plain": [
       " <=50K    0.759076\n",
       " >50K     0.240924\n",
       "Name: salary, dtype: float64"
      ]
     },
     "execution_count": 15,
     "metadata": {},
     "output_type": "execute_result"
    }
   ],
   "source": [
    "train_set.salary.value_counts()/len(train_set)"
   ]
  },
  {
   "cell_type": "code",
   "execution_count": 16,
   "id": "638eee38",
   "metadata": {},
   "outputs": [
    {
     "data": {
      "text/plain": [
       " <=50K    0.759066\n",
       " >50K     0.240934\n",
       "Name: salary, dtype: float64"
      ]
     },
     "execution_count": 16,
     "metadata": {},
     "output_type": "execute_result"
    }
   ],
   "source": [
    "test_set.salary.value_counts()/len(test_set)"
   ]
  },
  {
   "cell_type": "code",
   "execution_count": 17,
   "id": "71c6166b",
   "metadata": {},
   "outputs": [],
   "source": [
    "cat_features = [\n",
    "    \"workclass\",\n",
    "    \"education\",\n",
    "    \"marital-status\",\n",
    "    \"occupation\",\n",
    "    \"relationship\",\n",
    "    \"race\",\n",
    "    \"sex\",\n",
    "    \"native-country\",\n",
    "    ]"
   ]
  },
  {
   "cell_type": "code",
   "execution_count": 59,
   "id": "93c9c628",
   "metadata": {},
   "outputs": [],
   "source": [
    "def process_data(\n",
    "    X, categorical_features=[], label=None, training=True, encoder=None, lb=None\n",
    "):\n",
    "    \"\"\" Process the data used in the machine learning pipeline.\n",
    "\n",
    "    Processes the data using one hot encoding for the categorical features and a\n",
    "    label binarizer for the labels. This can be used in either training or\n",
    "    inference/validation.\n",
    "\n",
    "    Note: depending on the type of model used, you may want to add in functionality that\n",
    "    scales the continuous data.\n",
    "\n",
    "    Inputs\n",
    "    ------\n",
    "    X : pd.DataFrame\n",
    "        Dataframe containing the features and label. Columns in `categorical_features`\n",
    "    categorical_features: list[str]\n",
    "        List containing the names of the categorical features (default=[])\n",
    "    label : str\n",
    "        Name of the label column in `X`. If None, then an empty array will be returned\n",
    "        for y (default=None)\n",
    "    training : bool\n",
    "        Indicator if training mode or inference/validation mode.\n",
    "    encoder : sklearn.preprocessing._encoders.OneHotEncoder\n",
    "        Trained sklearn OneHotEncoder, only used if training=False.\n",
    "    lb : sklearn.preprocessing._label.LabelBinarizer\n",
    "        Trained sklearn LabelBinarizer, only used if training=False.\n",
    "\n",
    "    Returns\n",
    "    -------\n",
    "    X : np.array\n",
    "        Processed data.\n",
    "    y : np.array\n",
    "        Processed labels if labeled=True, otherwise empty np.array.\n",
    "    encoder : sklearn.preprocessing._encoders.OneHotEncoder\n",
    "        Trained OneHotEncoder if training is True, otherwise returns the encoder passed\n",
    "        in.\n",
    "    lb : sklearn.preprocessing._label.LabelBinarizer\n",
    "        Trained LabelBinarizer if training is True, otherwise returns the binarizer\n",
    "        passed in.\n",
    "    \"\"\"\n",
    "\n",
    "    if label is not None:\n",
    "        y = X[label]\n",
    "        X = X.drop([label], axis=1)\n",
    "    else:\n",
    "        label ='salary'\n",
    "        X = X.drop([label], axis=1)\n",
    "        y = np.array([])\n",
    "\n",
    "    X_categorical = X[categorical_features].values\n",
    "    X_continuous = X.drop(*[categorical_features], axis=1)\n",
    "\n",
    "    if training is True:\n",
    "        encoder = OneHotEncoder(sparse=False, handle_unknown=\"ignore\")\n",
    "        lb = LabelBinarizer()\n",
    "        X_categorical = encoder.fit_transform(X_categorical)\n",
    "        y = lb.fit_transform(y.values).ravel()\n",
    "    else:\n",
    "#         X_categorical = encoder.fit_transform(X_categorical)\n",
    "        X_categorical = encoder.transform(X_categorical)\n",
    "        try:\n",
    "            y = lb.transform(y.values).ravel()\n",
    "        # Catch the case where y is None because we're doing inference.\n",
    "        except AttributeError:\n",
    "            pass\n",
    "\n",
    "    X = np.concatenate([X_continuous, X_categorical], axis=1)\n",
    "    return X, y, encoder, lb\n"
   ]
  },
  {
   "cell_type": "code",
   "execution_count": 60,
   "id": "31e004d8",
   "metadata": {},
   "outputs": [],
   "source": [
    "X_train, y_train, encoder, lb = process_data(\n",
    "    train_set, categorical_features=cat_features, label=\"salary\", training=True\n",
    ")"
   ]
  },
  {
   "cell_type": "code",
   "execution_count": 61,
   "id": "0c095e6d",
   "metadata": {},
   "outputs": [
    {
     "data": {
      "text/plain": [
       "array([[3.30000e+01, 2.79173e+05, 9.00000e+00, 0.00000e+00, 0.00000e+00,\n",
       "        6.00000e+01, 0.00000e+00, 0.00000e+00, 0.00000e+00, 0.00000e+00,\n",
       "        1.00000e+00, 0.00000e+00, 0.00000e+00, 0.00000e+00, 0.00000e+00,\n",
       "        0.00000e+00, 0.00000e+00, 0.00000e+00, 0.00000e+00, 0.00000e+00,\n",
       "        0.00000e+00, 0.00000e+00, 0.00000e+00, 0.00000e+00, 0.00000e+00,\n",
       "        0.00000e+00, 1.00000e+00, 0.00000e+00, 0.00000e+00, 0.00000e+00,\n",
       "        0.00000e+00, 0.00000e+00, 0.00000e+00, 1.00000e+00, 0.00000e+00,\n",
       "        0.00000e+00, 0.00000e+00, 0.00000e+00, 0.00000e+00, 0.00000e+00,\n",
       "        0.00000e+00, 0.00000e+00, 0.00000e+00, 0.00000e+00, 0.00000e+00,\n",
       "        0.00000e+00, 0.00000e+00, 0.00000e+00, 1.00000e+00, 0.00000e+00,\n",
       "        0.00000e+00, 0.00000e+00, 0.00000e+00, 1.00000e+00, 0.00000e+00,\n",
       "        0.00000e+00, 0.00000e+00, 0.00000e+00, 0.00000e+00, 0.00000e+00,\n",
       "        0.00000e+00, 0.00000e+00, 0.00000e+00, 1.00000e+00, 0.00000e+00,\n",
       "        1.00000e+00, 0.00000e+00, 0.00000e+00, 0.00000e+00, 0.00000e+00,\n",
       "        0.00000e+00, 0.00000e+00, 0.00000e+00, 0.00000e+00, 0.00000e+00,\n",
       "        0.00000e+00, 0.00000e+00, 0.00000e+00, 0.00000e+00, 0.00000e+00,\n",
       "        0.00000e+00, 0.00000e+00, 0.00000e+00, 0.00000e+00, 0.00000e+00,\n",
       "        0.00000e+00, 0.00000e+00, 0.00000e+00, 0.00000e+00, 0.00000e+00,\n",
       "        0.00000e+00, 0.00000e+00, 0.00000e+00, 0.00000e+00, 0.00000e+00,\n",
       "        0.00000e+00, 0.00000e+00, 0.00000e+00, 0.00000e+00, 0.00000e+00,\n",
       "        0.00000e+00, 0.00000e+00, 0.00000e+00, 0.00000e+00, 0.00000e+00,\n",
       "        1.00000e+00, 0.00000e+00, 0.00000e+00]])"
      ]
     },
     "execution_count": 61,
     "metadata": {},
     "output_type": "execute_result"
    }
   ],
   "source": [
    "X_train[0:1,:]"
   ]
  },
  {
   "cell_type": "code",
   "execution_count": 62,
   "id": "38756846",
   "metadata": {},
   "outputs": [
    {
     "data": {
      "text/plain": [
       "array([0, 1, 0, 0])"
      ]
     },
     "execution_count": 62,
     "metadata": {},
     "output_type": "execute_result"
    }
   ],
   "source": [
    "y_train[0:4]"
   ]
  },
  {
   "cell_type": "code",
   "execution_count": 63,
   "id": "76ce1761",
   "metadata": {},
   "outputs": [
    {
     "data": {
      "text/html": [
       "<style>#sk-container-id-5 {color: black;background-color: white;}#sk-container-id-5 pre{padding: 0;}#sk-container-id-5 div.sk-toggleable {background-color: white;}#sk-container-id-5 label.sk-toggleable__label {cursor: pointer;display: block;width: 100%;margin-bottom: 0;padding: 0.3em;box-sizing: border-box;text-align: center;}#sk-container-id-5 label.sk-toggleable__label-arrow:before {content: \"▸\";float: left;margin-right: 0.25em;color: #696969;}#sk-container-id-5 label.sk-toggleable__label-arrow:hover:before {color: black;}#sk-container-id-5 div.sk-estimator:hover label.sk-toggleable__label-arrow:before {color: black;}#sk-container-id-5 div.sk-toggleable__content {max-height: 0;max-width: 0;overflow: hidden;text-align: left;background-color: #f0f8ff;}#sk-container-id-5 div.sk-toggleable__content pre {margin: 0.2em;color: black;border-radius: 0.25em;background-color: #f0f8ff;}#sk-container-id-5 input.sk-toggleable__control:checked~div.sk-toggleable__content {max-height: 200px;max-width: 100%;overflow: auto;}#sk-container-id-5 input.sk-toggleable__control:checked~label.sk-toggleable__label-arrow:before {content: \"▾\";}#sk-container-id-5 div.sk-estimator input.sk-toggleable__control:checked~label.sk-toggleable__label {background-color: #d4ebff;}#sk-container-id-5 div.sk-label input.sk-toggleable__control:checked~label.sk-toggleable__label {background-color: #d4ebff;}#sk-container-id-5 input.sk-hidden--visually {border: 0;clip: rect(1px 1px 1px 1px);clip: rect(1px, 1px, 1px, 1px);height: 1px;margin: -1px;overflow: hidden;padding: 0;position: absolute;width: 1px;}#sk-container-id-5 div.sk-estimator {font-family: monospace;background-color: #f0f8ff;border: 1px dotted black;border-radius: 0.25em;box-sizing: border-box;margin-bottom: 0.5em;}#sk-container-id-5 div.sk-estimator:hover {background-color: #d4ebff;}#sk-container-id-5 div.sk-parallel-item::after {content: \"\";width: 100%;border-bottom: 1px solid gray;flex-grow: 1;}#sk-container-id-5 div.sk-label:hover label.sk-toggleable__label {background-color: #d4ebff;}#sk-container-id-5 div.sk-serial::before {content: \"\";position: absolute;border-left: 1px solid gray;box-sizing: border-box;top: 0;bottom: 0;left: 50%;z-index: 0;}#sk-container-id-5 div.sk-serial {display: flex;flex-direction: column;align-items: center;background-color: white;padding-right: 0.2em;padding-left: 0.2em;position: relative;}#sk-container-id-5 div.sk-item {position: relative;z-index: 1;}#sk-container-id-5 div.sk-parallel {display: flex;align-items: stretch;justify-content: center;background-color: white;position: relative;}#sk-container-id-5 div.sk-item::before, #sk-container-id-5 div.sk-parallel-item::before {content: \"\";position: absolute;border-left: 1px solid gray;box-sizing: border-box;top: 0;bottom: 0;left: 50%;z-index: -1;}#sk-container-id-5 div.sk-parallel-item {display: flex;flex-direction: column;z-index: 1;position: relative;background-color: white;}#sk-container-id-5 div.sk-parallel-item:first-child::after {align-self: flex-end;width: 50%;}#sk-container-id-5 div.sk-parallel-item:last-child::after {align-self: flex-start;width: 50%;}#sk-container-id-5 div.sk-parallel-item:only-child::after {width: 0;}#sk-container-id-5 div.sk-dashed-wrapped {border: 1px dashed gray;margin: 0 0.4em 0.5em 0.4em;box-sizing: border-box;padding-bottom: 0.4em;background-color: white;}#sk-container-id-5 div.sk-label label {font-family: monospace;font-weight: bold;display: inline-block;line-height: 1.2em;}#sk-container-id-5 div.sk-label-container {text-align: center;}#sk-container-id-5 div.sk-container {/* jupyter's `normalize.less` sets `[hidden] { display: none; }` but bootstrap.min.css set `[hidden] { display: none !important; }` so we also need the `!important` here to be able to override the default hidden behavior on the sphinx rendered scikit-learn.org. See: https://github.com/scikit-learn/scikit-learn/issues/21755 */display: inline-block !important;position: relative;}#sk-container-id-5 div.sk-text-repr-fallback {display: none;}</style><div id=\"sk-container-id-5\" class=\"sk-top-container\"><div class=\"sk-text-repr-fallback\"><pre>OneHotEncoder(handle_unknown=&#x27;ignore&#x27;, sparse=False)</pre><b>In a Jupyter environment, please rerun this cell to show the HTML representation or trust the notebook. <br />On GitHub, the HTML representation is unable to render, please try loading this page with nbviewer.org.</b></div><div class=\"sk-container\" hidden><div class=\"sk-item\"><div class=\"sk-estimator sk-toggleable\"><input class=\"sk-toggleable__control sk-hidden--visually\" id=\"sk-estimator-id-5\" type=\"checkbox\" checked><label for=\"sk-estimator-id-5\" class=\"sk-toggleable__label sk-toggleable__label-arrow\">OneHotEncoder</label><div class=\"sk-toggleable__content\"><pre>OneHotEncoder(handle_unknown=&#x27;ignore&#x27;, sparse=False)</pre></div></div></div></div></div>"
      ],
      "text/plain": [
       "OneHotEncoder(handle_unknown='ignore', sparse=False)"
      ]
     },
     "execution_count": 63,
     "metadata": {},
     "output_type": "execute_result"
    }
   ],
   "source": [
    "encoder"
   ]
  },
  {
   "cell_type": "code",
   "execution_count": 64,
   "id": "6f1b963e",
   "metadata": {},
   "outputs": [
    {
     "data": {
      "text/html": [
       "<style>#sk-container-id-6 {color: black;background-color: white;}#sk-container-id-6 pre{padding: 0;}#sk-container-id-6 div.sk-toggleable {background-color: white;}#sk-container-id-6 label.sk-toggleable__label {cursor: pointer;display: block;width: 100%;margin-bottom: 0;padding: 0.3em;box-sizing: border-box;text-align: center;}#sk-container-id-6 label.sk-toggleable__label-arrow:before {content: \"▸\";float: left;margin-right: 0.25em;color: #696969;}#sk-container-id-6 label.sk-toggleable__label-arrow:hover:before {color: black;}#sk-container-id-6 div.sk-estimator:hover label.sk-toggleable__label-arrow:before {color: black;}#sk-container-id-6 div.sk-toggleable__content {max-height: 0;max-width: 0;overflow: hidden;text-align: left;background-color: #f0f8ff;}#sk-container-id-6 div.sk-toggleable__content pre {margin: 0.2em;color: black;border-radius: 0.25em;background-color: #f0f8ff;}#sk-container-id-6 input.sk-toggleable__control:checked~div.sk-toggleable__content {max-height: 200px;max-width: 100%;overflow: auto;}#sk-container-id-6 input.sk-toggleable__control:checked~label.sk-toggleable__label-arrow:before {content: \"▾\";}#sk-container-id-6 div.sk-estimator input.sk-toggleable__control:checked~label.sk-toggleable__label {background-color: #d4ebff;}#sk-container-id-6 div.sk-label input.sk-toggleable__control:checked~label.sk-toggleable__label {background-color: #d4ebff;}#sk-container-id-6 input.sk-hidden--visually {border: 0;clip: rect(1px 1px 1px 1px);clip: rect(1px, 1px, 1px, 1px);height: 1px;margin: -1px;overflow: hidden;padding: 0;position: absolute;width: 1px;}#sk-container-id-6 div.sk-estimator {font-family: monospace;background-color: #f0f8ff;border: 1px dotted black;border-radius: 0.25em;box-sizing: border-box;margin-bottom: 0.5em;}#sk-container-id-6 div.sk-estimator:hover {background-color: #d4ebff;}#sk-container-id-6 div.sk-parallel-item::after {content: \"\";width: 100%;border-bottom: 1px solid gray;flex-grow: 1;}#sk-container-id-6 div.sk-label:hover label.sk-toggleable__label {background-color: #d4ebff;}#sk-container-id-6 div.sk-serial::before {content: \"\";position: absolute;border-left: 1px solid gray;box-sizing: border-box;top: 0;bottom: 0;left: 50%;z-index: 0;}#sk-container-id-6 div.sk-serial {display: flex;flex-direction: column;align-items: center;background-color: white;padding-right: 0.2em;padding-left: 0.2em;position: relative;}#sk-container-id-6 div.sk-item {position: relative;z-index: 1;}#sk-container-id-6 div.sk-parallel {display: flex;align-items: stretch;justify-content: center;background-color: white;position: relative;}#sk-container-id-6 div.sk-item::before, #sk-container-id-6 div.sk-parallel-item::before {content: \"\";position: absolute;border-left: 1px solid gray;box-sizing: border-box;top: 0;bottom: 0;left: 50%;z-index: -1;}#sk-container-id-6 div.sk-parallel-item {display: flex;flex-direction: column;z-index: 1;position: relative;background-color: white;}#sk-container-id-6 div.sk-parallel-item:first-child::after {align-self: flex-end;width: 50%;}#sk-container-id-6 div.sk-parallel-item:last-child::after {align-self: flex-start;width: 50%;}#sk-container-id-6 div.sk-parallel-item:only-child::after {width: 0;}#sk-container-id-6 div.sk-dashed-wrapped {border: 1px dashed gray;margin: 0 0.4em 0.5em 0.4em;box-sizing: border-box;padding-bottom: 0.4em;background-color: white;}#sk-container-id-6 div.sk-label label {font-family: monospace;font-weight: bold;display: inline-block;line-height: 1.2em;}#sk-container-id-6 div.sk-label-container {text-align: center;}#sk-container-id-6 div.sk-container {/* jupyter's `normalize.less` sets `[hidden] { display: none; }` but bootstrap.min.css set `[hidden] { display: none !important; }` so we also need the `!important` here to be able to override the default hidden behavior on the sphinx rendered scikit-learn.org. See: https://github.com/scikit-learn/scikit-learn/issues/21755 */display: inline-block !important;position: relative;}#sk-container-id-6 div.sk-text-repr-fallback {display: none;}</style><div id=\"sk-container-id-6\" class=\"sk-top-container\"><div class=\"sk-text-repr-fallback\"><pre>LabelBinarizer()</pre><b>In a Jupyter environment, please rerun this cell to show the HTML representation or trust the notebook. <br />On GitHub, the HTML representation is unable to render, please try loading this page with nbviewer.org.</b></div><div class=\"sk-container\" hidden><div class=\"sk-item\"><div class=\"sk-estimator sk-toggleable\"><input class=\"sk-toggleable__control sk-hidden--visually\" id=\"sk-estimator-id-6\" type=\"checkbox\" checked><label for=\"sk-estimator-id-6\" class=\"sk-toggleable__label sk-toggleable__label-arrow\">LabelBinarizer</label><div class=\"sk-toggleable__content\"><pre>LabelBinarizer()</pre></div></div></div></div></div>"
      ],
      "text/plain": [
       "LabelBinarizer()"
      ]
     },
     "execution_count": 64,
     "metadata": {},
     "output_type": "execute_result"
    }
   ],
   "source": [
    "lb"
   ]
  },
  {
   "cell_type": "code",
   "execution_count": 65,
   "id": "c87dc419",
   "metadata": {},
   "outputs": [],
   "source": [
    "def train_model(X_train, y_train):\n",
    "    \"\"\"\n",
    "    Trains a machine learning model and returns it.\n",
    "    Inputs\n",
    "    ------\n",
    "    X_train : np.array\n",
    "        Training data.\n",
    "    y_train : np.array\n",
    "        Labels.\n",
    "    Returns\n",
    "    -------\n",
    "    model\n",
    "        Trained machine learning model.\n",
    "    \"\"\"\n",
    "    model = RandomForestClassifier(min_samples_split=25)\n",
    "    model.fit(X_train,y_train)\n",
    "    return model"
   ]
  },
  {
   "cell_type": "code",
   "execution_count": 66,
   "id": "47560b37",
   "metadata": {},
   "outputs": [],
   "source": [
    "model = train_model(X_train, y_train)"
   ]
  },
  {
   "cell_type": "code",
   "execution_count": 67,
   "id": "bc5382c0",
   "metadata": {},
   "outputs": [
    {
     "data": {
      "text/html": [
       "<style>#sk-container-id-7 {color: black;background-color: white;}#sk-container-id-7 pre{padding: 0;}#sk-container-id-7 div.sk-toggleable {background-color: white;}#sk-container-id-7 label.sk-toggleable__label {cursor: pointer;display: block;width: 100%;margin-bottom: 0;padding: 0.3em;box-sizing: border-box;text-align: center;}#sk-container-id-7 label.sk-toggleable__label-arrow:before {content: \"▸\";float: left;margin-right: 0.25em;color: #696969;}#sk-container-id-7 label.sk-toggleable__label-arrow:hover:before {color: black;}#sk-container-id-7 div.sk-estimator:hover label.sk-toggleable__label-arrow:before {color: black;}#sk-container-id-7 div.sk-toggleable__content {max-height: 0;max-width: 0;overflow: hidden;text-align: left;background-color: #f0f8ff;}#sk-container-id-7 div.sk-toggleable__content pre {margin: 0.2em;color: black;border-radius: 0.25em;background-color: #f0f8ff;}#sk-container-id-7 input.sk-toggleable__control:checked~div.sk-toggleable__content {max-height: 200px;max-width: 100%;overflow: auto;}#sk-container-id-7 input.sk-toggleable__control:checked~label.sk-toggleable__label-arrow:before {content: \"▾\";}#sk-container-id-7 div.sk-estimator input.sk-toggleable__control:checked~label.sk-toggleable__label {background-color: #d4ebff;}#sk-container-id-7 div.sk-label input.sk-toggleable__control:checked~label.sk-toggleable__label {background-color: #d4ebff;}#sk-container-id-7 input.sk-hidden--visually {border: 0;clip: rect(1px 1px 1px 1px);clip: rect(1px, 1px, 1px, 1px);height: 1px;margin: -1px;overflow: hidden;padding: 0;position: absolute;width: 1px;}#sk-container-id-7 div.sk-estimator {font-family: monospace;background-color: #f0f8ff;border: 1px dotted black;border-radius: 0.25em;box-sizing: border-box;margin-bottom: 0.5em;}#sk-container-id-7 div.sk-estimator:hover {background-color: #d4ebff;}#sk-container-id-7 div.sk-parallel-item::after {content: \"\";width: 100%;border-bottom: 1px solid gray;flex-grow: 1;}#sk-container-id-7 div.sk-label:hover label.sk-toggleable__label {background-color: #d4ebff;}#sk-container-id-7 div.sk-serial::before {content: \"\";position: absolute;border-left: 1px solid gray;box-sizing: border-box;top: 0;bottom: 0;left: 50%;z-index: 0;}#sk-container-id-7 div.sk-serial {display: flex;flex-direction: column;align-items: center;background-color: white;padding-right: 0.2em;padding-left: 0.2em;position: relative;}#sk-container-id-7 div.sk-item {position: relative;z-index: 1;}#sk-container-id-7 div.sk-parallel {display: flex;align-items: stretch;justify-content: center;background-color: white;position: relative;}#sk-container-id-7 div.sk-item::before, #sk-container-id-7 div.sk-parallel-item::before {content: \"\";position: absolute;border-left: 1px solid gray;box-sizing: border-box;top: 0;bottom: 0;left: 50%;z-index: -1;}#sk-container-id-7 div.sk-parallel-item {display: flex;flex-direction: column;z-index: 1;position: relative;background-color: white;}#sk-container-id-7 div.sk-parallel-item:first-child::after {align-self: flex-end;width: 50%;}#sk-container-id-7 div.sk-parallel-item:last-child::after {align-self: flex-start;width: 50%;}#sk-container-id-7 div.sk-parallel-item:only-child::after {width: 0;}#sk-container-id-7 div.sk-dashed-wrapped {border: 1px dashed gray;margin: 0 0.4em 0.5em 0.4em;box-sizing: border-box;padding-bottom: 0.4em;background-color: white;}#sk-container-id-7 div.sk-label label {font-family: monospace;font-weight: bold;display: inline-block;line-height: 1.2em;}#sk-container-id-7 div.sk-label-container {text-align: center;}#sk-container-id-7 div.sk-container {/* jupyter's `normalize.less` sets `[hidden] { display: none; }` but bootstrap.min.css set `[hidden] { display: none !important; }` so we also need the `!important` here to be able to override the default hidden behavior on the sphinx rendered scikit-learn.org. See: https://github.com/scikit-learn/scikit-learn/issues/21755 */display: inline-block !important;position: relative;}#sk-container-id-7 div.sk-text-repr-fallback {display: none;}</style><div id=\"sk-container-id-7\" class=\"sk-top-container\"><div class=\"sk-text-repr-fallback\"><pre>RandomForestClassifier(min_samples_split=25)</pre><b>In a Jupyter environment, please rerun this cell to show the HTML representation or trust the notebook. <br />On GitHub, the HTML representation is unable to render, please try loading this page with nbviewer.org.</b></div><div class=\"sk-container\" hidden><div class=\"sk-item\"><div class=\"sk-estimator sk-toggleable\"><input class=\"sk-toggleable__control sk-hidden--visually\" id=\"sk-estimator-id-7\" type=\"checkbox\" checked><label for=\"sk-estimator-id-7\" class=\"sk-toggleable__label sk-toggleable__label-arrow\">RandomForestClassifier</label><div class=\"sk-toggleable__content\"><pre>RandomForestClassifier(min_samples_split=25)</pre></div></div></div></div></div>"
      ],
      "text/plain": [
       "RandomForestClassifier(min_samples_split=25)"
      ]
     },
     "execution_count": 67,
     "metadata": {},
     "output_type": "execute_result"
    }
   ],
   "source": [
    "model"
   ]
  },
  {
   "cell_type": "code",
   "execution_count": 68,
   "id": "5e82910d",
   "metadata": {},
   "outputs": [
    {
     "data": {
      "text/html": [
       "<style>#sk-container-id-8 {color: black;background-color: white;}#sk-container-id-8 pre{padding: 0;}#sk-container-id-8 div.sk-toggleable {background-color: white;}#sk-container-id-8 label.sk-toggleable__label {cursor: pointer;display: block;width: 100%;margin-bottom: 0;padding: 0.3em;box-sizing: border-box;text-align: center;}#sk-container-id-8 label.sk-toggleable__label-arrow:before {content: \"▸\";float: left;margin-right: 0.25em;color: #696969;}#sk-container-id-8 label.sk-toggleable__label-arrow:hover:before {color: black;}#sk-container-id-8 div.sk-estimator:hover label.sk-toggleable__label-arrow:before {color: black;}#sk-container-id-8 div.sk-toggleable__content {max-height: 0;max-width: 0;overflow: hidden;text-align: left;background-color: #f0f8ff;}#sk-container-id-8 div.sk-toggleable__content pre {margin: 0.2em;color: black;border-radius: 0.25em;background-color: #f0f8ff;}#sk-container-id-8 input.sk-toggleable__control:checked~div.sk-toggleable__content {max-height: 200px;max-width: 100%;overflow: auto;}#sk-container-id-8 input.sk-toggleable__control:checked~label.sk-toggleable__label-arrow:before {content: \"▾\";}#sk-container-id-8 div.sk-estimator input.sk-toggleable__control:checked~label.sk-toggleable__label {background-color: #d4ebff;}#sk-container-id-8 div.sk-label input.sk-toggleable__control:checked~label.sk-toggleable__label {background-color: #d4ebff;}#sk-container-id-8 input.sk-hidden--visually {border: 0;clip: rect(1px 1px 1px 1px);clip: rect(1px, 1px, 1px, 1px);height: 1px;margin: -1px;overflow: hidden;padding: 0;position: absolute;width: 1px;}#sk-container-id-8 div.sk-estimator {font-family: monospace;background-color: #f0f8ff;border: 1px dotted black;border-radius: 0.25em;box-sizing: border-box;margin-bottom: 0.5em;}#sk-container-id-8 div.sk-estimator:hover {background-color: #d4ebff;}#sk-container-id-8 div.sk-parallel-item::after {content: \"\";width: 100%;border-bottom: 1px solid gray;flex-grow: 1;}#sk-container-id-8 div.sk-label:hover label.sk-toggleable__label {background-color: #d4ebff;}#sk-container-id-8 div.sk-serial::before {content: \"\";position: absolute;border-left: 1px solid gray;box-sizing: border-box;top: 0;bottom: 0;left: 50%;z-index: 0;}#sk-container-id-8 div.sk-serial {display: flex;flex-direction: column;align-items: center;background-color: white;padding-right: 0.2em;padding-left: 0.2em;position: relative;}#sk-container-id-8 div.sk-item {position: relative;z-index: 1;}#sk-container-id-8 div.sk-parallel {display: flex;align-items: stretch;justify-content: center;background-color: white;position: relative;}#sk-container-id-8 div.sk-item::before, #sk-container-id-8 div.sk-parallel-item::before {content: \"\";position: absolute;border-left: 1px solid gray;box-sizing: border-box;top: 0;bottom: 0;left: 50%;z-index: -1;}#sk-container-id-8 div.sk-parallel-item {display: flex;flex-direction: column;z-index: 1;position: relative;background-color: white;}#sk-container-id-8 div.sk-parallel-item:first-child::after {align-self: flex-end;width: 50%;}#sk-container-id-8 div.sk-parallel-item:last-child::after {align-self: flex-start;width: 50%;}#sk-container-id-8 div.sk-parallel-item:only-child::after {width: 0;}#sk-container-id-8 div.sk-dashed-wrapped {border: 1px dashed gray;margin: 0 0.4em 0.5em 0.4em;box-sizing: border-box;padding-bottom: 0.4em;background-color: white;}#sk-container-id-8 div.sk-label label {font-family: monospace;font-weight: bold;display: inline-block;line-height: 1.2em;}#sk-container-id-8 div.sk-label-container {text-align: center;}#sk-container-id-8 div.sk-container {/* jupyter's `normalize.less` sets `[hidden] { display: none; }` but bootstrap.min.css set `[hidden] { display: none !important; }` so we also need the `!important` here to be able to override the default hidden behavior on the sphinx rendered scikit-learn.org. See: https://github.com/scikit-learn/scikit-learn/issues/21755 */display: inline-block !important;position: relative;}#sk-container-id-8 div.sk-text-repr-fallback {display: none;}</style><div id=\"sk-container-id-8\" class=\"sk-top-container\"><div class=\"sk-text-repr-fallback\"><pre>OneHotEncoder(handle_unknown=&#x27;ignore&#x27;, sparse=False)</pre><b>In a Jupyter environment, please rerun this cell to show the HTML representation or trust the notebook. <br />On GitHub, the HTML representation is unable to render, please try loading this page with nbviewer.org.</b></div><div class=\"sk-container\" hidden><div class=\"sk-item\"><div class=\"sk-estimator sk-toggleable\"><input class=\"sk-toggleable__control sk-hidden--visually\" id=\"sk-estimator-id-8\" type=\"checkbox\" checked><label for=\"sk-estimator-id-8\" class=\"sk-toggleable__label sk-toggleable__label-arrow\">OneHotEncoder</label><div class=\"sk-toggleable__content\"><pre>OneHotEncoder(handle_unknown=&#x27;ignore&#x27;, sparse=False)</pre></div></div></div></div></div>"
      ],
      "text/plain": [
       "OneHotEncoder(handle_unknown='ignore', sparse=False)"
      ]
     },
     "execution_count": 68,
     "metadata": {},
     "output_type": "execute_result"
    }
   ],
   "source": [
    "encoder"
   ]
  },
  {
   "cell_type": "code",
   "execution_count": 69,
   "id": "0a752e07",
   "metadata": {},
   "outputs": [],
   "source": [
    "pd.to_pickle(model, \"model.pkl\")\n",
    "\n",
    "#Saving the encoder and the LabelBinarizer for being used in the API later\n",
    "pd.to_pickle(encoder, \"encoder.pkl\")\n",
    "pd.to_pickle(lb, \"lb.pkl\")"
   ]
  },
  {
   "cell_type": "code",
   "execution_count": 70,
   "id": "92911cd3",
   "metadata": {},
   "outputs": [
    {
     "name": "stdout",
     "output_type": "stream",
     "text": [
      "EDA.ipynb                     model.pkl\r\n",
      "README.md                     model_card_template.md\r\n",
      "\u001b[1m\u001b[36m__pycache__\u001b[m\u001b[m                   requirements.txt\r\n",
      "\u001b[1m\u001b[36mdata\u001b[m\u001b[m                          sanitycheck.py\r\n",
      "dvc_on_heroku_instructions.md \u001b[1m\u001b[36mscreenshots\u001b[m\u001b[m\r\n",
      "encoder.pkl                   setup.py\r\n",
      "lb.pkl                        slice.py\r\n",
      "main.py                       \u001b[1m\u001b[36mstarter\u001b[m\u001b[m\r\n",
      "\u001b[1m\u001b[36mmodel\u001b[m\u001b[m                         train_model.py\r\n"
     ]
    }
   ],
   "source": [
    "!ls"
   ]
  },
  {
   "cell_type": "code",
   "execution_count": 71,
   "id": "e45b22b2",
   "metadata": {},
   "outputs": [],
   "source": [
    "# Encoder = pd.read_pickle(r\"encoder.pkl\")"
   ]
  },
  {
   "cell_type": "code",
   "execution_count": 72,
   "id": "1b0c5440",
   "metadata": {},
   "outputs": [],
   "source": [
    "# X_processed, y_processed, encoder, lb = process_data(test_set, categorical_features=cat_features, training=False,encoder=encoder)\n"
   ]
  },
  {
   "cell_type": "code",
   "execution_count": 73,
   "id": "bf3bc5fa",
   "metadata": {},
   "outputs": [],
   "source": [
    "X_test, y_test, encoder, lb = process_data(test_set, categorical_features=cat_features, training=False,encoder=encoder)\n"
   ]
  },
  {
   "cell_type": "code",
   "execution_count": 74,
   "id": "10b3e997",
   "metadata": {},
   "outputs": [],
   "source": [
    "# X_processed"
   ]
  },
  {
   "cell_type": "code",
   "execution_count": 75,
   "id": "b965649a",
   "metadata": {},
   "outputs": [
    {
     "data": {
      "text/plain": [
       "array([[2.70000e+01, 1.78709e+05, 1.40000e+01, 0.00000e+00, 0.00000e+00,\n",
       "        4.00000e+01, 0.00000e+00, 0.00000e+00, 0.00000e+00, 0.00000e+00,\n",
       "        1.00000e+00, 0.00000e+00, 0.00000e+00, 0.00000e+00, 0.00000e+00,\n",
       "        0.00000e+00, 0.00000e+00, 0.00000e+00, 0.00000e+00, 0.00000e+00,\n",
       "        0.00000e+00, 0.00000e+00, 0.00000e+00, 0.00000e+00, 0.00000e+00,\n",
       "        0.00000e+00, 0.00000e+00, 1.00000e+00, 0.00000e+00, 0.00000e+00,\n",
       "        0.00000e+00, 0.00000e+00, 0.00000e+00, 0.00000e+00, 0.00000e+00,\n",
       "        1.00000e+00, 0.00000e+00, 0.00000e+00, 0.00000e+00, 0.00000e+00,\n",
       "        0.00000e+00, 0.00000e+00, 0.00000e+00, 0.00000e+00, 0.00000e+00,\n",
       "        1.00000e+00, 0.00000e+00, 0.00000e+00, 0.00000e+00, 0.00000e+00,\n",
       "        0.00000e+00, 0.00000e+00, 0.00000e+00, 0.00000e+00, 1.00000e+00,\n",
       "        0.00000e+00, 0.00000e+00, 0.00000e+00, 0.00000e+00, 0.00000e+00,\n",
       "        0.00000e+00, 0.00000e+00, 0.00000e+00, 1.00000e+00, 1.00000e+00,\n",
       "        0.00000e+00, 0.00000e+00, 0.00000e+00, 0.00000e+00, 0.00000e+00,\n",
       "        0.00000e+00, 0.00000e+00, 0.00000e+00, 0.00000e+00, 0.00000e+00,\n",
       "        0.00000e+00, 0.00000e+00, 0.00000e+00, 0.00000e+00, 0.00000e+00,\n",
       "        0.00000e+00, 0.00000e+00, 0.00000e+00, 0.00000e+00, 0.00000e+00,\n",
       "        0.00000e+00, 0.00000e+00, 0.00000e+00, 0.00000e+00, 0.00000e+00,\n",
       "        0.00000e+00, 0.00000e+00, 0.00000e+00, 0.00000e+00, 0.00000e+00,\n",
       "        0.00000e+00, 0.00000e+00, 0.00000e+00, 0.00000e+00, 0.00000e+00,\n",
       "        0.00000e+00, 0.00000e+00, 0.00000e+00, 0.00000e+00, 0.00000e+00,\n",
       "        1.00000e+00, 0.00000e+00, 0.00000e+00]])"
      ]
     },
     "execution_count": 75,
     "metadata": {},
     "output_type": "execute_result"
    }
   ],
   "source": [
    "X_test[0:1,:]"
   ]
  },
  {
   "cell_type": "code",
   "execution_count": 76,
   "id": "0c6e32a2",
   "metadata": {},
   "outputs": [],
   "source": [
    "# y_processed"
   ]
  },
  {
   "cell_type": "code",
   "execution_count": 77,
   "id": "ad12ea55",
   "metadata": {},
   "outputs": [
    {
     "data": {
      "text/plain": [
       "array([], dtype=float64)"
      ]
     },
     "execution_count": 77,
     "metadata": {},
     "output_type": "execute_result"
    }
   ],
   "source": [
    "y_test"
   ]
  },
  {
   "cell_type": "code",
   "execution_count": 78,
   "id": "4a9bf097",
   "metadata": {},
   "outputs": [],
   "source": [
    "# X_processed, y_processed, encoder, lb = process_data(test_set, categorical_features=cat_features, label=\"salary\", training=False,encoder=Encoder)\n"
   ]
  },
  {
   "cell_type": "code",
   "execution_count": 79,
   "id": "bafab410",
   "metadata": {},
   "outputs": [],
   "source": [
    "# y_processed"
   ]
  },
  {
   "cell_type": "code",
   "execution_count": 80,
   "id": "9939daaa",
   "metadata": {},
   "outputs": [],
   "source": [
    "# X_processed, y_processed, encoder, lb = process_data(test_set, categorical_features=cat_features, training=False,encoder=Encoder, lb=LabelBinarizer())\n"
   ]
  },
  {
   "cell_type": "code",
   "execution_count": 81,
   "id": "947cc9a9",
   "metadata": {},
   "outputs": [],
   "source": [
    "# y_processed"
   ]
  },
  {
   "cell_type": "code",
   "execution_count": 82,
   "id": "bc00a402",
   "metadata": {},
   "outputs": [],
   "source": [
    "# X_processed"
   ]
  },
  {
   "cell_type": "code",
   "execution_count": 83,
   "id": "bf431e66",
   "metadata": {},
   "outputs": [],
   "source": [
    "# np.set_printoptions(threshold=np.inf)"
   ]
  },
  {
   "cell_type": "code",
   "execution_count": 84,
   "id": "ed6be61c",
   "metadata": {},
   "outputs": [],
   "source": [
    "# lb = LabelBinarizer()"
   ]
  },
  {
   "cell_type": "code",
   "execution_count": 85,
   "id": "3ba3fc5a",
   "metadata": {},
   "outputs": [],
   "source": [
    "# lb.fit_transform(y_processed)"
   ]
  },
  {
   "cell_type": "code",
   "execution_count": 86,
   "id": "a7807972",
   "metadata": {},
   "outputs": [
    {
     "data": {
      "text/plain": [
       "6508"
      ]
     },
     "execution_count": 86,
     "metadata": {},
     "output_type": "execute_result"
    }
   ],
   "source": [
    "len(X_test)"
   ]
  },
  {
   "cell_type": "code",
   "execution_count": 87,
   "id": "d8a73464",
   "metadata": {},
   "outputs": [],
   "source": [
    "# X_processed = X_processed[:,:-1]"
   ]
  },
  {
   "cell_type": "code",
   "execution_count": 88,
   "id": "e1839953",
   "metadata": {},
   "outputs": [],
   "source": [
    "#Calling the inference function to make a prediction  \n",
    "# prediction_outcome = inference(model, X_processed)"
   ]
  },
  {
   "cell_type": "code",
   "execution_count": 89,
   "id": "6fdb8a01",
   "metadata": {},
   "outputs": [],
   "source": [
    "# prediction_outcome"
   ]
  },
  {
   "cell_type": "code",
   "execution_count": 90,
   "id": "2b76a735",
   "metadata": {},
   "outputs": [],
   "source": [
    "# process_data(\n",
    "#     train_set, categorical_features=cat_features, label=\"salary\", training=True\n",
    "#     )"
   ]
  },
  {
   "cell_type": "code",
   "execution_count": 91,
   "id": "1f170ccb",
   "metadata": {},
   "outputs": [],
   "source": [
    "# df_processed = process_data(\n",
    "#     df, categorical_features=cat_features, label=\"salary\", training=True\n",
    "#     )"
   ]
  },
  {
   "cell_type": "code",
   "execution_count": 92,
   "id": "b75e4f88",
   "metadata": {},
   "outputs": [],
   "source": [
    "# def train_test_model():\n",
    "#     # Add the necessary imports for the starter code.       \n",
    "#     # Add code to load in the data.\n",
    "#     df = pd.read_csv(\"data/raw/census.csv\")\n",
    "#     df.columns = df.columns.str.strip()\n",
    "#     df = df.drop_duplicates()\n",
    "\n",
    "# # Optional enhancement, use K-fold cross validation instead of a train-test split.\n",
    "#     train_set, test_set = train_test_split(df, test_size=0.20, random_state=42)\n",
    "\n",
    "#     cat_features = [\n",
    "#     \"workclass\",\n",
    "#     \"education\",\n",
    "#     \"marital-status\",\n",
    "#     \"occupation\",\n",
    "#     \"relationship\",\n",
    "#     \"race\",\n",
    "#     \"sex\",\n",
    "#     \"native-country\",\n",
    "#     ]\n",
    "#     X_train, y_train, encoder, lb = process_data(\n",
    "#     train_set, categorical_features=cat_features, label=\"salary\", training=True\n",
    "#     )\n",
    "\n",
    "#     trained_model = train_model(X_train, y_train)"
   ]
  },
  {
   "cell_type": "code",
   "execution_count": 93,
   "id": "ff8bd980",
   "metadata": {},
   "outputs": [],
   "source": [
    "# model=train_test_model()"
   ]
  },
  {
   "cell_type": "code",
   "execution_count": 94,
   "id": "95f89cdd",
   "metadata": {},
   "outputs": [],
   "source": [
    "# model.fit?"
   ]
  },
  {
   "cell_type": "code",
   "execution_count": 95,
   "id": "d5ce362c",
   "metadata": {},
   "outputs": [],
   "source": [
    "def compute_model_metrics(y, preds):\n",
    "    \"\"\"\n",
    "    Validates the trained machine learning model using precision, recall, and F1.\n",
    "\n",
    "    Inputs\n",
    "    ------\n",
    "    y : np.array\n",
    "        Known labels, binarized.\n",
    "    preds : np.array\n",
    "        Predicted labels, binarized.\n",
    "    Returns\n",
    "    -------\n",
    "    precision : float\n",
    "    recall : float\n",
    "    fbeta : float\n",
    "    \"\"\"\n",
    "    fbeta = fbeta_score(y, preds, beta=1, zero_division=1)\n",
    "    precision = precision_score(y, preds, zero_division=1)\n",
    "    recall = recall_score(y, preds, zero_division=1)\n",
    "    return precision, recall, fbeta"
   ]
  },
  {
   "cell_type": "code",
   "execution_count": 96,
   "id": "9c1564bb",
   "metadata": {},
   "outputs": [],
   "source": [
    "def inference(model, X):\n",
    "    \"\"\" Run model inferences and return the predictions.\n",
    "\n",
    "    Inputs\n",
    "    ------\n",
    "    model : ???\n",
    "        Trained machine learning model.\n",
    "    X : np.array\n",
    "        Data used for prediction.\n",
    "    Returns\n",
    "    -------\n",
    "    preds : np.array\n",
    "        Predictions from the model.\n",
    "    \"\"\"\n",
    "    y_preds = model.predict(X)\n",
    "    return y_preds"
   ]
  },
  {
   "cell_type": "code",
   "execution_count": 97,
   "id": "dfee9502",
   "metadata": {},
   "outputs": [],
   "source": [
    "# inference(model,X_processed)"
   ]
  },
  {
   "cell_type": "code",
   "execution_count": 98,
   "id": "8c0d55c5",
   "metadata": {},
   "outputs": [],
   "source": [
    "y_pred=inference(model, X_test)"
   ]
  },
  {
   "cell_type": "code",
   "execution_count": 99,
   "id": "f60ad4d2",
   "metadata": {},
   "outputs": [
    {
     "data": {
      "text/plain": [
       "array([0, 1, 0, ..., 1, 0, 0])"
      ]
     },
     "execution_count": 99,
     "metadata": {},
     "output_type": "execute_result"
    }
   ],
   "source": [
    "y_pred"
   ]
  },
  {
   "cell_type": "code",
   "execution_count": 100,
   "id": "317aad6d",
   "metadata": {},
   "outputs": [],
   "source": [
    "y =test_set.iloc[:,-1:]"
   ]
  },
  {
   "cell_type": "code",
   "execution_count": 101,
   "id": "00a43d6e",
   "metadata": {},
   "outputs": [
    {
     "data": {
      "text/html": [
       "<div>\n",
       "<style scoped>\n",
       "    .dataframe tbody tr th:only-of-type {\n",
       "        vertical-align: middle;\n",
       "    }\n",
       "\n",
       "    .dataframe tbody tr th {\n",
       "        vertical-align: top;\n",
       "    }\n",
       "\n",
       "    .dataframe thead th {\n",
       "        text-align: right;\n",
       "    }\n",
       "</style>\n",
       "<table border=\"1\" class=\"dataframe\">\n",
       "  <thead>\n",
       "    <tr style=\"text-align: right;\">\n",
       "      <th></th>\n",
       "      <th>salary</th>\n",
       "    </tr>\n",
       "  </thead>\n",
       "  <tbody>\n",
       "    <tr>\n",
       "      <th>20334</th>\n",
       "      <td>&lt;=50K</td>\n",
       "    </tr>\n",
       "    <tr>\n",
       "      <th>23878</th>\n",
       "      <td>&gt;50K</td>\n",
       "    </tr>\n",
       "    <tr>\n",
       "      <th>19996</th>\n",
       "      <td>&lt;=50K</td>\n",
       "    </tr>\n",
       "  </tbody>\n",
       "</table>\n",
       "</div>"
      ],
      "text/plain": [
       "       salary\n",
       "20334   <=50K\n",
       "23878    >50K\n",
       "19996   <=50K"
      ]
     },
     "execution_count": 101,
     "metadata": {},
     "output_type": "execute_result"
    }
   ],
   "source": [
    "y[0:3]"
   ]
  },
  {
   "cell_type": "code",
   "execution_count": 102,
   "id": "4d838c85",
   "metadata": {},
   "outputs": [],
   "source": [
    "lb = LabelEncoder() \n",
    "y = lb.fit_transform(np.ravel(y))"
   ]
  },
  {
   "cell_type": "code",
   "execution_count": 103,
   "id": "be5380ff",
   "metadata": {},
   "outputs": [
    {
     "data": {
      "text/plain": [
       "array([0, 1, 0])"
      ]
     },
     "execution_count": 103,
     "metadata": {},
     "output_type": "execute_result"
    }
   ],
   "source": [
    "y[0:3]"
   ]
  },
  {
   "cell_type": "code",
   "execution_count": 104,
   "id": "cf8d102f",
   "metadata": {},
   "outputs": [],
   "source": [
    "# compute_model_metrics(y, prediction_outcome)"
   ]
  },
  {
   "cell_type": "code",
   "execution_count": 105,
   "id": "5b70eb31",
   "metadata": {},
   "outputs": [
    {
     "data": {
      "text/plain": [
       "(0.7771739130434783, 0.6383928571428571, 0.7009803921568628)"
      ]
     },
     "execution_count": 105,
     "metadata": {},
     "output_type": "execute_result"
    }
   ],
   "source": [
    "compute_model_metrics(y, y_pred)"
   ]
  },
  {
   "cell_type": "code",
   "execution_count": 106,
   "id": "58c56e66",
   "metadata": {},
   "outputs": [
    {
     "data": {
      "text/plain": [
       "'Precision:0.78 Recall:0.64 fbeta:0.7'"
      ]
     },
     "execution_count": 106,
     "metadata": {},
     "output_type": "execute_result"
    }
   ],
   "source": [
    "f\"Precision:{round(compute_model_metrics(y, y_pred)[0],2)} \\\n",
    "Recall:{round(compute_model_metrics(y, y_pred)[1],2)} \\\n",
    "fbeta:{round(compute_model_metrics(y, y_pred)[2],2)}\" "
   ]
  },
  {
   "cell_type": "code",
   "execution_count": 107,
   "id": "a18d48ec",
   "metadata": {},
   "outputs": [
    {
     "data": {
      "text/plain": [
       "array([[4653,  287],\n",
       "       [ 567, 1001]])"
      ]
     },
     "execution_count": 107,
     "metadata": {},
     "output_type": "execute_result"
    }
   ],
   "source": [
    "from sklearn.metrics import confusion_matrix\n",
    "confusion_matrix(y, y_pred)"
   ]
  },
  {
   "cell_type": "code",
   "execution_count": 108,
   "id": "6a0fa854",
   "metadata": {},
   "outputs": [
    {
     "data": {
      "text/plain": [
       "['workclass',\n",
       " 'education',\n",
       " 'marital-status',\n",
       " 'occupation',\n",
       " 'relationship',\n",
       " 'race',\n",
       " 'sex',\n",
       " 'native-country']"
      ]
     },
     "execution_count": 108,
     "metadata": {},
     "output_type": "execute_result"
    }
   ],
   "source": [
    "cat_features"
   ]
  },
  {
   "cell_type": "code",
   "execution_count": 109,
   "id": "71b4b076",
   "metadata": {},
   "outputs": [
    {
     "data": {
      "text/html": [
       "<div>\n",
       "<style scoped>\n",
       "    .dataframe tbody tr th:only-of-type {\n",
       "        vertical-align: middle;\n",
       "    }\n",
       "\n",
       "    .dataframe tbody tr th {\n",
       "        vertical-align: top;\n",
       "    }\n",
       "\n",
       "    .dataframe thead th {\n",
       "        text-align: right;\n",
       "    }\n",
       "</style>\n",
       "<table border=\"1\" class=\"dataframe\">\n",
       "  <thead>\n",
       "    <tr style=\"text-align: right;\">\n",
       "      <th></th>\n",
       "      <th>age</th>\n",
       "      <th>workclass</th>\n",
       "      <th>fnlgt</th>\n",
       "      <th>education</th>\n",
       "      <th>education-num</th>\n",
       "      <th>marital-status</th>\n",
       "      <th>occupation</th>\n",
       "      <th>relationship</th>\n",
       "      <th>race</th>\n",
       "      <th>sex</th>\n",
       "      <th>capital-gain</th>\n",
       "      <th>capital-loss</th>\n",
       "      <th>hours-per-week</th>\n",
       "      <th>native-country</th>\n",
       "      <th>salary</th>\n",
       "    </tr>\n",
       "  </thead>\n",
       "  <tbody>\n",
       "    <tr>\n",
       "      <th>20334</th>\n",
       "      <td>27</td>\n",
       "      <td>Private</td>\n",
       "      <td>178709</td>\n",
       "      <td>Masters</td>\n",
       "      <td>14</td>\n",
       "      <td>Never-married</td>\n",
       "      <td>Machine-op-inspct</td>\n",
       "      <td>Not-in-family</td>\n",
       "      <td>White</td>\n",
       "      <td>Female</td>\n",
       "      <td>0</td>\n",
       "      <td>0</td>\n",
       "      <td>40</td>\n",
       "      <td>United-States</td>\n",
       "      <td>&lt;=50K</td>\n",
       "    </tr>\n",
       "    <tr>\n",
       "      <th>23878</th>\n",
       "      <td>51</td>\n",
       "      <td>Local-gov</td>\n",
       "      <td>387250</td>\n",
       "      <td>Bachelors</td>\n",
       "      <td>13</td>\n",
       "      <td>Married-civ-spouse</td>\n",
       "      <td>Adm-clerical</td>\n",
       "      <td>Husband</td>\n",
       "      <td>White</td>\n",
       "      <td>Male</td>\n",
       "      <td>0</td>\n",
       "      <td>0</td>\n",
       "      <td>50</td>\n",
       "      <td>United-States</td>\n",
       "      <td>&gt;50K</td>\n",
       "    </tr>\n",
       "    <tr>\n",
       "      <th>19996</th>\n",
       "      <td>34</td>\n",
       "      <td>Private</td>\n",
       "      <td>202498</td>\n",
       "      <td>12th</td>\n",
       "      <td>8</td>\n",
       "      <td>Married-civ-spouse</td>\n",
       "      <td>Other-service</td>\n",
       "      <td>Husband</td>\n",
       "      <td>White</td>\n",
       "      <td>Male</td>\n",
       "      <td>0</td>\n",
       "      <td>0</td>\n",
       "      <td>40</td>\n",
       "      <td>Dominican-Republic</td>\n",
       "      <td>&lt;=50K</td>\n",
       "    </tr>\n",
       "    <tr>\n",
       "      <th>21440</th>\n",
       "      <td>31</td>\n",
       "      <td>Private</td>\n",
       "      <td>133861</td>\n",
       "      <td>Assoc-acdm</td>\n",
       "      <td>12</td>\n",
       "      <td>Divorced</td>\n",
       "      <td>Exec-managerial</td>\n",
       "      <td>Not-in-family</td>\n",
       "      <td>White</td>\n",
       "      <td>Male</td>\n",
       "      <td>0</td>\n",
       "      <td>0</td>\n",
       "      <td>40</td>\n",
       "      <td>United-States</td>\n",
       "      <td>&lt;=50K</td>\n",
       "    </tr>\n",
       "    <tr>\n",
       "      <th>10000</th>\n",
       "      <td>34</td>\n",
       "      <td>Private</td>\n",
       "      <td>120461</td>\n",
       "      <td>Some-college</td>\n",
       "      <td>10</td>\n",
       "      <td>Divorced</td>\n",
       "      <td>Adm-clerical</td>\n",
       "      <td>Not-in-family</td>\n",
       "      <td>White</td>\n",
       "      <td>Female</td>\n",
       "      <td>0</td>\n",
       "      <td>0</td>\n",
       "      <td>50</td>\n",
       "      <td>United-States</td>\n",
       "      <td>&lt;=50K</td>\n",
       "    </tr>\n",
       "  </tbody>\n",
       "</table>\n",
       "</div>"
      ],
      "text/plain": [
       "       age   workclass   fnlgt      education  education-num  \\\n",
       "20334   27     Private  178709        Masters             14   \n",
       "23878   51   Local-gov  387250      Bachelors             13   \n",
       "19996   34     Private  202498           12th              8   \n",
       "21440   31     Private  133861     Assoc-acdm             12   \n",
       "10000   34     Private  120461   Some-college             10   \n",
       "\n",
       "            marital-status          occupation    relationship    race  \\\n",
       "20334        Never-married   Machine-op-inspct   Not-in-family   White   \n",
       "23878   Married-civ-spouse        Adm-clerical         Husband   White   \n",
       "19996   Married-civ-spouse       Other-service         Husband   White   \n",
       "21440             Divorced     Exec-managerial   Not-in-family   White   \n",
       "10000             Divorced        Adm-clerical   Not-in-family   White   \n",
       "\n",
       "           sex  capital-gain  capital-loss  hours-per-week  \\\n",
       "20334   Female             0             0              40   \n",
       "23878     Male             0             0              50   \n",
       "19996     Male             0             0              40   \n",
       "21440     Male             0             0              40   \n",
       "10000   Female             0             0              50   \n",
       "\n",
       "            native-country  salary  \n",
       "20334        United-States   <=50K  \n",
       "23878        United-States    >50K  \n",
       "19996   Dominican-Republic   <=50K  \n",
       "21440        United-States   <=50K  \n",
       "10000        United-States   <=50K  "
      ]
     },
     "execution_count": 109,
     "metadata": {},
     "output_type": "execute_result"
    }
   ],
   "source": [
    "test_set.head()"
   ]
  },
  {
   "cell_type": "code",
   "execution_count": 110,
   "id": "9f666134",
   "metadata": {},
   "outputs": [],
   "source": [
    "slice_values = []\n",
    "cat_features = [\n",
    "    \"workclass\",\n",
    "    \"education\",\n",
    "    \"marital-status\",\n",
    "    \"occupation\",\n",
    "    \"relationship\",\n",
    "    \"race\",\n",
    "    \"sex\",\n",
    "    \"native-country\",\n",
    "]\n"
   ]
  },
  {
   "cell_type": "code",
   "execution_count": null,
   "id": "73bcc3ea",
   "metadata": {},
   "outputs": [],
   "source": []
  },
  {
   "cell_type": "code",
   "execution_count": 111,
   "id": "0ed3e30f",
   "metadata": {},
   "outputs": [
    {
     "data": {
      "text/html": [
       "<div>\n",
       "<style scoped>\n",
       "    .dataframe tbody tr th:only-of-type {\n",
       "        vertical-align: middle;\n",
       "    }\n",
       "\n",
       "    .dataframe tbody tr th {\n",
       "        vertical-align: top;\n",
       "    }\n",
       "\n",
       "    .dataframe thead th {\n",
       "        text-align: right;\n",
       "    }\n",
       "</style>\n",
       "<table border=\"1\" class=\"dataframe\">\n",
       "  <thead>\n",
       "    <tr style=\"text-align: right;\">\n",
       "      <th></th>\n",
       "      <th>workclass</th>\n",
       "      <th>education</th>\n",
       "      <th>marital-status</th>\n",
       "      <th>occupation</th>\n",
       "      <th>relationship</th>\n",
       "      <th>race</th>\n",
       "      <th>sex</th>\n",
       "      <th>native-country</th>\n",
       "    </tr>\n",
       "  </thead>\n",
       "  <tbody>\n",
       "    <tr>\n",
       "      <th>20334</th>\n",
       "      <td>Private</td>\n",
       "      <td>Masters</td>\n",
       "      <td>Never-married</td>\n",
       "      <td>Machine-op-inspct</td>\n",
       "      <td>Not-in-family</td>\n",
       "      <td>White</td>\n",
       "      <td>Female</td>\n",
       "      <td>United-States</td>\n",
       "    </tr>\n",
       "    <tr>\n",
       "      <th>23878</th>\n",
       "      <td>Local-gov</td>\n",
       "      <td>Bachelors</td>\n",
       "      <td>Married-civ-spouse</td>\n",
       "      <td>Adm-clerical</td>\n",
       "      <td>Husband</td>\n",
       "      <td>White</td>\n",
       "      <td>Male</td>\n",
       "      <td>United-States</td>\n",
       "    </tr>\n",
       "    <tr>\n",
       "      <th>19996</th>\n",
       "      <td>Private</td>\n",
       "      <td>12th</td>\n",
       "      <td>Married-civ-spouse</td>\n",
       "      <td>Other-service</td>\n",
       "      <td>Husband</td>\n",
       "      <td>White</td>\n",
       "      <td>Male</td>\n",
       "      <td>Dominican-Republic</td>\n",
       "    </tr>\n",
       "    <tr>\n",
       "      <th>21440</th>\n",
       "      <td>Private</td>\n",
       "      <td>Assoc-acdm</td>\n",
       "      <td>Divorced</td>\n",
       "      <td>Exec-managerial</td>\n",
       "      <td>Not-in-family</td>\n",
       "      <td>White</td>\n",
       "      <td>Male</td>\n",
       "      <td>United-States</td>\n",
       "    </tr>\n",
       "    <tr>\n",
       "      <th>10000</th>\n",
       "      <td>Private</td>\n",
       "      <td>Some-college</td>\n",
       "      <td>Divorced</td>\n",
       "      <td>Adm-clerical</td>\n",
       "      <td>Not-in-family</td>\n",
       "      <td>White</td>\n",
       "      <td>Female</td>\n",
       "      <td>United-States</td>\n",
       "    </tr>\n",
       "    <tr>\n",
       "      <th>...</th>\n",
       "      <td>...</td>\n",
       "      <td>...</td>\n",
       "      <td>...</td>\n",
       "      <td>...</td>\n",
       "      <td>...</td>\n",
       "      <td>...</td>\n",
       "      <td>...</td>\n",
       "      <td>...</td>\n",
       "    </tr>\n",
       "    <tr>\n",
       "      <th>12569</th>\n",
       "      <td>Private</td>\n",
       "      <td>HS-grad</td>\n",
       "      <td>Never-married</td>\n",
       "      <td>Craft-repair</td>\n",
       "      <td>Not-in-family</td>\n",
       "      <td>White</td>\n",
       "      <td>Male</td>\n",
       "      <td>United-States</td>\n",
       "    </tr>\n",
       "    <tr>\n",
       "      <th>16643</th>\n",
       "      <td>Private</td>\n",
       "      <td>Assoc-voc</td>\n",
       "      <td>Married-civ-spouse</td>\n",
       "      <td>Craft-repair</td>\n",
       "      <td>Husband</td>\n",
       "      <td>White</td>\n",
       "      <td>Male</td>\n",
       "      <td>United-States</td>\n",
       "    </tr>\n",
       "    <tr>\n",
       "      <th>26695</th>\n",
       "      <td>Self-emp-inc</td>\n",
       "      <td>HS-grad</td>\n",
       "      <td>Married-civ-spouse</td>\n",
       "      <td>Exec-managerial</td>\n",
       "      <td>Husband</td>\n",
       "      <td>White</td>\n",
       "      <td>Male</td>\n",
       "      <td>United-States</td>\n",
       "    </tr>\n",
       "    <tr>\n",
       "      <th>702</th>\n",
       "      <td>Private</td>\n",
       "      <td>Some-college</td>\n",
       "      <td>Never-married</td>\n",
       "      <td>Handlers-cleaners</td>\n",
       "      <td>Own-child</td>\n",
       "      <td>White</td>\n",
       "      <td>Male</td>\n",
       "      <td>United-States</td>\n",
       "    </tr>\n",
       "    <tr>\n",
       "      <th>10039</th>\n",
       "      <td>Private</td>\n",
       "      <td>Some-college</td>\n",
       "      <td>Never-married</td>\n",
       "      <td>Adm-clerical</td>\n",
       "      <td>Own-child</td>\n",
       "      <td>White</td>\n",
       "      <td>Male</td>\n",
       "      <td>United-States</td>\n",
       "    </tr>\n",
       "  </tbody>\n",
       "</table>\n",
       "<p>6508 rows × 8 columns</p>\n",
       "</div>"
      ],
      "text/plain": [
       "           workclass      education       marital-status          occupation  \\\n",
       "20334        Private        Masters        Never-married   Machine-op-inspct   \n",
       "23878      Local-gov      Bachelors   Married-civ-spouse        Adm-clerical   \n",
       "19996        Private           12th   Married-civ-spouse       Other-service   \n",
       "21440        Private     Assoc-acdm             Divorced     Exec-managerial   \n",
       "10000        Private   Some-college             Divorced        Adm-clerical   \n",
       "...              ...            ...                  ...                 ...   \n",
       "12569        Private        HS-grad        Never-married        Craft-repair   \n",
       "16643        Private      Assoc-voc   Married-civ-spouse        Craft-repair   \n",
       "26695   Self-emp-inc        HS-grad   Married-civ-spouse     Exec-managerial   \n",
       "702          Private   Some-college        Never-married   Handlers-cleaners   \n",
       "10039        Private   Some-college        Never-married        Adm-clerical   \n",
       "\n",
       "         relationship    race      sex       native-country  \n",
       "20334   Not-in-family   White   Female        United-States  \n",
       "23878         Husband   White     Male        United-States  \n",
       "19996         Husband   White     Male   Dominican-Republic  \n",
       "21440   Not-in-family   White     Male        United-States  \n",
       "10000   Not-in-family   White   Female        United-States  \n",
       "...               ...     ...      ...                  ...  \n",
       "12569   Not-in-family   White     Male        United-States  \n",
       "16643         Husband   White     Male        United-States  \n",
       "26695         Husband   White     Male        United-States  \n",
       "702         Own-child   White     Male        United-States  \n",
       "10039       Own-child   White     Male        United-States  \n",
       "\n",
       "[6508 rows x 8 columns]"
      ]
     },
     "execution_count": 111,
     "metadata": {},
     "output_type": "execute_result"
    }
   ],
   "source": [
    "test_set[cat_features]"
   ]
  },
  {
   "cell_type": "code",
   "execution_count": 112,
   "id": "ff612155",
   "metadata": {},
   "outputs": [
    {
     "data": {
      "text/plain": [
       "array([[2.70000e+01, 1.78709e+05, 1.40000e+01, ..., 1.00000e+00,\n",
       "        0.00000e+00, 0.00000e+00],\n",
       "       [5.10000e+01, 3.87250e+05, 1.30000e+01, ..., 1.00000e+00,\n",
       "        0.00000e+00, 0.00000e+00],\n",
       "       [3.40000e+01, 2.02498e+05, 8.00000e+00, ..., 0.00000e+00,\n",
       "        0.00000e+00, 0.00000e+00],\n",
       "       ...,\n",
       "       [3.40000e+01, 1.98613e+05, 9.00000e+00, ..., 1.00000e+00,\n",
       "        0.00000e+00, 0.00000e+00],\n",
       "       [2.10000e+01, 1.63870e+05, 1.00000e+01, ..., 1.00000e+00,\n",
       "        0.00000e+00, 0.00000e+00],\n",
       "       [2.20000e+01, 1.84813e+05, 1.00000e+01, ..., 1.00000e+00,\n",
       "        0.00000e+00, 0.00000e+00]])"
      ]
     },
     "execution_count": 112,
     "metadata": {},
     "output_type": "execute_result"
    }
   ],
   "source": [
    "X_test"
   ]
  },
  {
   "cell_type": "code",
   "execution_count": 113,
   "id": "37dba6e8",
   "metadata": {},
   "outputs": [
    {
     "data": {
      "text/plain": [
       "6508"
      ]
     },
     "execution_count": 113,
     "metadata": {},
     "output_type": "execute_result"
    }
   ],
   "source": [
    "len(X_test)"
   ]
  },
  {
   "cell_type": "code",
   "execution_count": 120,
   "id": "0fae18fe",
   "metadata": {},
   "outputs": [
    {
     "data": {
      "text/html": [
       "<style>#sk-container-id-10 {color: black;background-color: white;}#sk-container-id-10 pre{padding: 0;}#sk-container-id-10 div.sk-toggleable {background-color: white;}#sk-container-id-10 label.sk-toggleable__label {cursor: pointer;display: block;width: 100%;margin-bottom: 0;padding: 0.3em;box-sizing: border-box;text-align: center;}#sk-container-id-10 label.sk-toggleable__label-arrow:before {content: \"▸\";float: left;margin-right: 0.25em;color: #696969;}#sk-container-id-10 label.sk-toggleable__label-arrow:hover:before {color: black;}#sk-container-id-10 div.sk-estimator:hover label.sk-toggleable__label-arrow:before {color: black;}#sk-container-id-10 div.sk-toggleable__content {max-height: 0;max-width: 0;overflow: hidden;text-align: left;background-color: #f0f8ff;}#sk-container-id-10 div.sk-toggleable__content pre {margin: 0.2em;color: black;border-radius: 0.25em;background-color: #f0f8ff;}#sk-container-id-10 input.sk-toggleable__control:checked~div.sk-toggleable__content {max-height: 200px;max-width: 100%;overflow: auto;}#sk-container-id-10 input.sk-toggleable__control:checked~label.sk-toggleable__label-arrow:before {content: \"▾\";}#sk-container-id-10 div.sk-estimator input.sk-toggleable__control:checked~label.sk-toggleable__label {background-color: #d4ebff;}#sk-container-id-10 div.sk-label input.sk-toggleable__control:checked~label.sk-toggleable__label {background-color: #d4ebff;}#sk-container-id-10 input.sk-hidden--visually {border: 0;clip: rect(1px 1px 1px 1px);clip: rect(1px, 1px, 1px, 1px);height: 1px;margin: -1px;overflow: hidden;padding: 0;position: absolute;width: 1px;}#sk-container-id-10 div.sk-estimator {font-family: monospace;background-color: #f0f8ff;border: 1px dotted black;border-radius: 0.25em;box-sizing: border-box;margin-bottom: 0.5em;}#sk-container-id-10 div.sk-estimator:hover {background-color: #d4ebff;}#sk-container-id-10 div.sk-parallel-item::after {content: \"\";width: 100%;border-bottom: 1px solid gray;flex-grow: 1;}#sk-container-id-10 div.sk-label:hover label.sk-toggleable__label {background-color: #d4ebff;}#sk-container-id-10 div.sk-serial::before {content: \"\";position: absolute;border-left: 1px solid gray;box-sizing: border-box;top: 0;bottom: 0;left: 50%;z-index: 0;}#sk-container-id-10 div.sk-serial {display: flex;flex-direction: column;align-items: center;background-color: white;padding-right: 0.2em;padding-left: 0.2em;position: relative;}#sk-container-id-10 div.sk-item {position: relative;z-index: 1;}#sk-container-id-10 div.sk-parallel {display: flex;align-items: stretch;justify-content: center;background-color: white;position: relative;}#sk-container-id-10 div.sk-item::before, #sk-container-id-10 div.sk-parallel-item::before {content: \"\";position: absolute;border-left: 1px solid gray;box-sizing: border-box;top: 0;bottom: 0;left: 50%;z-index: -1;}#sk-container-id-10 div.sk-parallel-item {display: flex;flex-direction: column;z-index: 1;position: relative;background-color: white;}#sk-container-id-10 div.sk-parallel-item:first-child::after {align-self: flex-end;width: 50%;}#sk-container-id-10 div.sk-parallel-item:last-child::after {align-self: flex-start;width: 50%;}#sk-container-id-10 div.sk-parallel-item:only-child::after {width: 0;}#sk-container-id-10 div.sk-dashed-wrapped {border: 1px dashed gray;margin: 0 0.4em 0.5em 0.4em;box-sizing: border-box;padding-bottom: 0.4em;background-color: white;}#sk-container-id-10 div.sk-label label {font-family: monospace;font-weight: bold;display: inline-block;line-height: 1.2em;}#sk-container-id-10 div.sk-label-container {text-align: center;}#sk-container-id-10 div.sk-container {/* jupyter's `normalize.less` sets `[hidden] { display: none; }` but bootstrap.min.css set `[hidden] { display: none !important; }` so we also need the `!important` here to be able to override the default hidden behavior on the sphinx rendered scikit-learn.org. See: https://github.com/scikit-learn/scikit-learn/issues/21755 */display: inline-block !important;position: relative;}#sk-container-id-10 div.sk-text-repr-fallback {display: none;}</style><div id=\"sk-container-id-10\" class=\"sk-top-container\"><div class=\"sk-text-repr-fallback\"><pre>OneHotEncoder(handle_unknown=&#x27;ignore&#x27;, sparse=False)</pre><b>In a Jupyter environment, please rerun this cell to show the HTML representation or trust the notebook. <br />On GitHub, the HTML representation is unable to render, please try loading this page with nbviewer.org.</b></div><div class=\"sk-container\" hidden><div class=\"sk-item\"><div class=\"sk-estimator sk-toggleable\"><input class=\"sk-toggleable__control sk-hidden--visually\" id=\"sk-estimator-id-10\" type=\"checkbox\" checked><label for=\"sk-estimator-id-10\" class=\"sk-toggleable__label sk-toggleable__label-arrow\">OneHotEncoder</label><div class=\"sk-toggleable__content\"><pre>OneHotEncoder(handle_unknown=&#x27;ignore&#x27;, sparse=False)</pre></div></div></div></div></div>"
      ],
      "text/plain": [
       "OneHotEncoder(handle_unknown='ignore', sparse=False)"
      ]
     },
     "execution_count": 120,
     "metadata": {},
     "output_type": "execute_result"
    }
   ],
   "source": [
    "encoder"
   ]
  },
  {
   "cell_type": "code",
   "execution_count": 116,
   "id": "ee7ef473",
   "metadata": {},
   "outputs": [
    {
     "data": {
      "text/plain": [
       "'auto'"
      ]
     },
     "execution_count": 116,
     "metadata": {},
     "output_type": "execute_result"
    }
   ],
   "source": [
    "encoder.categories"
   ]
  },
  {
   "cell_type": "code",
   "execution_count": 123,
   "id": "cfb8122c",
   "metadata": {},
   "outputs": [],
   "source": [
    "encoder = pd.read_pickle(r\"encoder.pkl\") "
   ]
  },
  {
   "cell_type": "code",
   "execution_count": 124,
   "id": "2cd24ef3",
   "metadata": {},
   "outputs": [
    {
     "data": {
      "text/html": [
       "<style>#sk-container-id-12 {color: black;background-color: white;}#sk-container-id-12 pre{padding: 0;}#sk-container-id-12 div.sk-toggleable {background-color: white;}#sk-container-id-12 label.sk-toggleable__label {cursor: pointer;display: block;width: 100%;margin-bottom: 0;padding: 0.3em;box-sizing: border-box;text-align: center;}#sk-container-id-12 label.sk-toggleable__label-arrow:before {content: \"▸\";float: left;margin-right: 0.25em;color: #696969;}#sk-container-id-12 label.sk-toggleable__label-arrow:hover:before {color: black;}#sk-container-id-12 div.sk-estimator:hover label.sk-toggleable__label-arrow:before {color: black;}#sk-container-id-12 div.sk-toggleable__content {max-height: 0;max-width: 0;overflow: hidden;text-align: left;background-color: #f0f8ff;}#sk-container-id-12 div.sk-toggleable__content pre {margin: 0.2em;color: black;border-radius: 0.25em;background-color: #f0f8ff;}#sk-container-id-12 input.sk-toggleable__control:checked~div.sk-toggleable__content {max-height: 200px;max-width: 100%;overflow: auto;}#sk-container-id-12 input.sk-toggleable__control:checked~label.sk-toggleable__label-arrow:before {content: \"▾\";}#sk-container-id-12 div.sk-estimator input.sk-toggleable__control:checked~label.sk-toggleable__label {background-color: #d4ebff;}#sk-container-id-12 div.sk-label input.sk-toggleable__control:checked~label.sk-toggleable__label {background-color: #d4ebff;}#sk-container-id-12 input.sk-hidden--visually {border: 0;clip: rect(1px 1px 1px 1px);clip: rect(1px, 1px, 1px, 1px);height: 1px;margin: -1px;overflow: hidden;padding: 0;position: absolute;width: 1px;}#sk-container-id-12 div.sk-estimator {font-family: monospace;background-color: #f0f8ff;border: 1px dotted black;border-radius: 0.25em;box-sizing: border-box;margin-bottom: 0.5em;}#sk-container-id-12 div.sk-estimator:hover {background-color: #d4ebff;}#sk-container-id-12 div.sk-parallel-item::after {content: \"\";width: 100%;border-bottom: 1px solid gray;flex-grow: 1;}#sk-container-id-12 div.sk-label:hover label.sk-toggleable__label {background-color: #d4ebff;}#sk-container-id-12 div.sk-serial::before {content: \"\";position: absolute;border-left: 1px solid gray;box-sizing: border-box;top: 0;bottom: 0;left: 50%;z-index: 0;}#sk-container-id-12 div.sk-serial {display: flex;flex-direction: column;align-items: center;background-color: white;padding-right: 0.2em;padding-left: 0.2em;position: relative;}#sk-container-id-12 div.sk-item {position: relative;z-index: 1;}#sk-container-id-12 div.sk-parallel {display: flex;align-items: stretch;justify-content: center;background-color: white;position: relative;}#sk-container-id-12 div.sk-item::before, #sk-container-id-12 div.sk-parallel-item::before {content: \"\";position: absolute;border-left: 1px solid gray;box-sizing: border-box;top: 0;bottom: 0;left: 50%;z-index: -1;}#sk-container-id-12 div.sk-parallel-item {display: flex;flex-direction: column;z-index: 1;position: relative;background-color: white;}#sk-container-id-12 div.sk-parallel-item:first-child::after {align-self: flex-end;width: 50%;}#sk-container-id-12 div.sk-parallel-item:last-child::after {align-self: flex-start;width: 50%;}#sk-container-id-12 div.sk-parallel-item:only-child::after {width: 0;}#sk-container-id-12 div.sk-dashed-wrapped {border: 1px dashed gray;margin: 0 0.4em 0.5em 0.4em;box-sizing: border-box;padding-bottom: 0.4em;background-color: white;}#sk-container-id-12 div.sk-label label {font-family: monospace;font-weight: bold;display: inline-block;line-height: 1.2em;}#sk-container-id-12 div.sk-label-container {text-align: center;}#sk-container-id-12 div.sk-container {/* jupyter's `normalize.less` sets `[hidden] { display: none; }` but bootstrap.min.css set `[hidden] { display: none !important; }` so we also need the `!important` here to be able to override the default hidden behavior on the sphinx rendered scikit-learn.org. See: https://github.com/scikit-learn/scikit-learn/issues/21755 */display: inline-block !important;position: relative;}#sk-container-id-12 div.sk-text-repr-fallback {display: none;}</style><div id=\"sk-container-id-12\" class=\"sk-top-container\"><div class=\"sk-text-repr-fallback\"><pre>OneHotEncoder(handle_unknown=&#x27;ignore&#x27;, sparse=False)</pre><b>In a Jupyter environment, please rerun this cell to show the HTML representation or trust the notebook. <br />On GitHub, the HTML representation is unable to render, please try loading this page with nbviewer.org.</b></div><div class=\"sk-container\" hidden><div class=\"sk-item\"><div class=\"sk-estimator sk-toggleable\"><input class=\"sk-toggleable__control sk-hidden--visually\" id=\"sk-estimator-id-12\" type=\"checkbox\" checked><label for=\"sk-estimator-id-12\" class=\"sk-toggleable__label sk-toggleable__label-arrow\">OneHotEncoder</label><div class=\"sk-toggleable__content\"><pre>OneHotEncoder(handle_unknown=&#x27;ignore&#x27;, sparse=False)</pre></div></div></div></div></div>"
      ],
      "text/plain": [
       "OneHotEncoder(handle_unknown='ignore', sparse=False)"
      ]
     },
     "execution_count": 124,
     "metadata": {},
     "output_type": "execute_result"
    }
   ],
   "source": [
    "encoder"
   ]
  },
  {
   "cell_type": "code",
   "execution_count": 126,
   "id": "f3414ab9",
   "metadata": {
    "scrolled": false
   },
   "outputs": [
    {
     "name": "stdout",
     "output_type": "stream",
     "text": [
      "['[workclass-> Private] Precision: 0.7730138713745272 Recall: 0.6142284569138277 FBeta: 0.6845337800111669']\n",
      "['[workclass-> Local-gov] Precision: 0.7410714285714286 Recall: 0.680327868852459 FBeta: 0.7094017094017093']\n",
      "['[workclass-> Self-emp-not-inc] Precision: 0.8055555555555556 Recall: 0.5918367346938775 FBeta: 0.6823529411764706']\n",
      "['[workclass-> State-gov] Precision: 0.7384615384615385 Recall: 0.7058823529411765 FBeta: 0.7218045112781954']\n",
      "['[workclass-> ?] Precision: 0.8148148148148148 Recall: 0.6111111111111112 FBeta: 0.6984126984126984']\n",
      "['[workclass-> Federal-gov] Precision: 0.75 Recall: 0.6575342465753424 FBeta: 0.7007299270072993']\n",
      "['[workclass-> Self-emp-inc] Precision: 0.8403361344537815 Recall: 0.8064516129032258 FBeta: 0.8230452674897119']\n",
      "['[workclass-> Never-worked] Precision: 1.0 Recall: 1.0 FBeta: 1.0']\n",
      "['[workclass-> Without-pay] Precision: 1.0 Recall: 1.0 FBeta: 1.0']\n",
      "\n",
      "['[education-> Masters] Precision: 0.8502673796791443 Recall: 0.888268156424581 FBeta: 0.8688524590163934']\n",
      "['[education-> Bachelors] Precision: 0.7682403433476395 Recall: 0.8117913832199547 FBeta: 0.7894156560088204']\n",
      "['[education-> 12th] Precision: 1.0 Recall: 0.25 FBeta: 0.4']\n",
      "['[education-> Assoc-acdm] Precision: 0.6851851851851852 Recall: 0.6981132075471698 FBeta: 0.6915887850467289']\n",
      "['[education-> Some-college] Precision: 0.7666666666666667 Recall: 0.4842105263157895 FBeta: 0.5935483870967742']\n",
      "['[education-> HS-grad] Precision: 0.7204968944099379 Recall: 0.3483483483483483 FBeta: 0.4696356275303644']\n",
      "['[education-> Doctorate] Precision: 0.84 Recall: 0.9264705882352942 FBeta: 0.881118881118881']\n",
      "['[education-> Assoc-voc] Precision: 0.7321428571428571 Recall: 0.5 FBeta: 0.5942028985507246']\n",
      "['[education-> 11th] Precision: 1.0 Recall: 0.36363636363636365 FBeta: 0.5333333333333333']\n",
      "['[education-> 1st-4th] Precision: 1.0 Recall: 1.0 FBeta: 1.0']\n",
      "['[education-> Prof-school] Precision: 0.797979797979798 Recall: 0.9518072289156626 FBeta: 0.8681318681318682']\n",
      "['[education-> 10th] Precision: 1.0 Recall: 0.07142857142857142 FBeta: 0.13333333333333333']\n",
      "['[education-> Preschool] Precision: 1.0 Recall: 1.0 FBeta: 1.0']\n",
      "['[education-> 7th-8th] Precision: 1.0 Recall: 0.16666666666666666 FBeta: 0.2857142857142857']\n",
      "['[education-> 9th] Precision: 1.0 Recall: 0.14285714285714285 FBeta: 0.25']\n",
      "['[education-> 5th-6th] Precision: 1.0 Recall: 1.0 FBeta: 1.0']\n",
      "\n",
      "['[marital-status-> Never-married] Precision: 0.9166666666666666 Recall: 0.39285714285714285 FBeta: 0.55']\n",
      "['[marital-status-> Married-civ-spouse] Precision: 0.7671345995045417 Recall: 0.6866223207686623 FBeta: 0.7246489859594385']\n",
      "['[marital-status-> Divorced] Precision: 0.9285714285714286 Recall: 0.26804123711340205 FBeta: 0.41600000000000004']\n",
      "['[marital-status-> Widowed] Precision: 1.0 Recall: 0.4166666666666667 FBeta: 0.5882352941176471']\n",
      "['[marital-status-> Separated] Precision: 1.0 Recall: 0.4666666666666667 FBeta: 0.6363636363636364']\n",
      "['[marital-status-> Married-spouse-absent] Precision: 1.0 Recall: 0.25 FBeta: 0.4']\n",
      "['[marital-status-> Married-AF-spouse] Precision: 1.0 Recall: 0.0 FBeta: 0.0']\n",
      "\n",
      "['[occupation-> Machine-op-inspct] Precision: 0.7894736842105263 Recall: 0.3 FBeta: 0.4347826086956521']\n",
      "['[occupation-> Adm-clerical] Precision: 0.7027027027027027 Recall: 0.4642857142857143 FBeta: 0.5591397849462365']\n",
      "['[occupation-> Other-service] Precision: 1.0 Recall: 0.1 FBeta: 0.18181818181818182']\n",
      "['[occupation-> Exec-managerial] Precision: 0.8253968253968254 Recall: 0.7819548872180451 FBeta: 0.803088803088803']\n",
      "['[occupation-> Craft-repair] Precision: 0.6545454545454545 Recall: 0.4022346368715084 FBeta: 0.4982698961937716']\n",
      "['[occupation-> Prof-specialty] Precision: 0.7932816537467701 Recall: 0.8434065934065934 FBeta: 0.8175765645805593']\n",
      "['[occupation-> Handlers-cleaners] Precision: 1.0 Recall: 0.2727272727272727 FBeta: 0.42857142857142855']\n",
      "['[occupation-> ?] Precision: 0.8148148148148148 Recall: 0.6111111111111112 FBeta: 0.6984126984126984']\n",
      "['[occupation-> Sales] Precision: 0.7738095238095238 Recall: 0.6132075471698113 FBeta: 0.6842105263157895']\n",
      "['[occupation-> Protective-serv] Precision: 0.7857142857142857 Recall: 0.55 FBeta: 0.6470588235294117']\n",
      "['[occupation-> Transport-moving] Precision: 0.5357142857142857 Recall: 0.2459016393442623 FBeta: 0.3370786516853933']\n",
      "['[occupation-> Tech-support] Precision: 0.7368421052631579 Recall: 0.6666666666666666 FBeta: 0.7']\n",
      "['[occupation-> Farming-fishing] Precision: 1.0 Recall: 0.3 FBeta: 0.4615384615384615']\n",
      "['[occupation-> Priv-house-serv] Precision: 1.0 Recall: 1.0 FBeta: 1.0']\n",
      "['[occupation-> Armed-Forces] Precision: 0.0 Recall: 1.0 FBeta: 0.0']\n",
      "\n",
      "['[relationship-> Not-in-family] Precision: 0.9122807017543859 Recall: 0.3270440251572327 FBeta: 0.48148148148148145']\n",
      "['[relationship-> Husband] Precision: 0.7607879924953096 Recall: 0.6861252115059222 FBeta: 0.7215302491103203']\n",
      "['[relationship-> Unmarried] Precision: 1.0 Recall: 0.358974358974359 FBeta: 0.5283018867924528']\n",
      "['[relationship-> Own-child] Precision: 1.0 Recall: 0.42857142857142855 FBeta: 0.6']\n",
      "['[relationship-> Other-relative] Precision: 1.0 Recall: 0.2222222222222222 FBeta: 0.3636363636363636']\n",
      "['[relationship-> Wife] Precision: 0.8111888111888111 Recall: 0.703030303030303 FBeta: 0.7532467532467532']\n",
      "\n",
      "['[race-> White] Precision: 0.7749576988155669 Recall: 0.6482661004953999 FBeta: 0.7059730250481695']\n",
      "['[race-> Asian-Pac-Islander] Precision: 0.7291666666666666 Recall: 0.6363636363636364 FBeta: 0.6796116504854369']\n",
      "['[race-> Black] Precision: 0.86 Recall: 0.4942528735632184 FBeta: 0.6277372262773723']\n",
      "['[race-> Amer-Indian-Eskimo] Precision: 0.75 Recall: 0.3333333333333333 FBeta: 0.46153846153846156']\n",
      "['[race-> Other] Precision: 1.0 Recall: 1.0 FBeta: 1.0']\n",
      "\n",
      "['[sex-> Female] Precision: 0.8488372093023255 Recall: 0.5748031496062992 FBeta: 0.6854460093896713']\n",
      "['[sex-> Male] Precision: 0.7661290322580645 Recall: 0.6506849315068494 FBeta: 0.7037037037037037']\n",
      "\n",
      "['[native-country-> United-States] Precision: 0.7793867120954003 Recall: 0.6349757113115891 FBeta: 0.6998087954110898']\n",
      "['[native-country-> Dominican-Republic] Precision: 1.0 Recall: 1.0 FBeta: 1.0']\n",
      "['[native-country-> Italy] Precision: 0.875 Recall: 0.7777777777777778 FBeta: 0.823529411764706']\n",
      "['[native-country-> Portugal] Precision: 1.0 Recall: 0.0 FBeta: 0.0']\n",
      "['[native-country-> Puerto-Rico] Precision: 0.8 Recall: 1.0 FBeta: 0.888888888888889']\n",
      "['[native-country-> Canada] Precision: 0.3333333333333333 Recall: 0.25 FBeta: 0.28571428571428575']\n",
      "['[native-country-> India] Precision: 0.6153846153846154 Recall: 1.0 FBeta: 0.761904761904762']\n",
      "['[native-country-> ?] Precision: 0.8214285714285714 Recall: 0.7666666666666667 FBeta: 0.793103448275862']\n",
      "['[native-country-> Haiti] Precision: 1.0 Recall: 1.0 FBeta: 1.0']\n",
      "['[native-country-> Mexico] Precision: 1.0 Recall: 0.5 FBeta: 0.6666666666666666']\n",
      "['[native-country-> Cuba] Precision: 1.0 Recall: 0.5 FBeta: 0.6666666666666666']\n",
      "['[native-country-> Philippines] Precision: 0.8181818181818182 Recall: 0.6923076923076923 FBeta: 0.7500000000000001']\n",
      "['[native-country-> Hungary] Precision: 1.0 Recall: 0.0 FBeta: 0.0']\n",
      "['[native-country-> Poland] Precision: 0.6666666666666666 Recall: 1.0 FBeta: 0.8']\n",
      "['[native-country-> China] Precision: 0.75 Recall: 0.75 FBeta: 0.75']\n",
      "['[native-country-> Germany] Precision: 0.8 Recall: 0.5714285714285714 FBeta: 0.6666666666666666']\n",
      "['[native-country-> South] Precision: 0.6666666666666666 Recall: 0.2857142857142857 FBeta: 0.4']\n",
      "['[native-country-> Jamaica] Precision: 1.0 Recall: 1.0 FBeta: 1.0']\n",
      "['[native-country-> Ecuador] Precision: 0.0 Recall: 1.0 FBeta: 0.0']\n",
      "['[native-country-> Taiwan] Precision: 1.0 Recall: 1.0 FBeta: 1.0']\n",
      "['[native-country-> England] Precision: 1.0 Recall: 0.5 FBeta: 0.6666666666666666']\n",
      "['[native-country-> Japan] Precision: 0.8333333333333334 Recall: 0.7142857142857143 FBeta: 0.7692307692307692']\n",
      "['[native-country-> Guatemala] Precision: 1.0 Recall: 1.0 FBeta: 1.0']\n",
      "['[native-country-> El-Salvador] Precision: 1.0 Recall: 1.0 FBeta: 1.0']\n",
      "['[native-country-> Vietnam] Precision: 1.0 Recall: 1.0 FBeta: 1.0']\n",
      "['[native-country-> Nicaragua] Precision: 1.0 Recall: 0.0 FBeta: 0.0']\n",
      "['[native-country-> Peru] Precision: 1.0 Recall: 1.0 FBeta: 1.0']\n",
      "['[native-country-> Yugoslavia] Precision: 0.0 Recall: 0.0 FBeta: 0.0']\n",
      "['[native-country-> France] Precision: 0.5 Recall: 1.0 FBeta: 0.6666666666666666']\n"
     ]
    },
    {
     "name": "stdout",
     "output_type": "stream",
     "text": [
      "['[native-country-> Columbia] Precision: 0.0 Recall: 1.0 FBeta: 0.0']\n",
      "['[native-country-> Honduras] Precision: 1.0 Recall: 1.0 FBeta: 1.0']\n",
      "['[native-country-> Cambodia] Precision: 0.0 Recall: 0.0 FBeta: 0.0']\n",
      "['[native-country-> Trinadad&Tobago] Precision: 1.0 Recall: 1.0 FBeta: 1.0']\n",
      "['[native-country-> Iran] Precision: 1.0 Recall: 0.0 FBeta: 0.0']\n",
      "['[native-country-> Outlying-US(Guam-USVI-etc)] Precision: 1.0 Recall: 1.0 FBeta: 1.0']\n",
      "['[native-country-> Laos] Precision: 1.0 Recall: 1.0 FBeta: 1.0']\n",
      "['[native-country-> Hong] Precision: 0.5 Recall: 1.0 FBeta: 0.6666666666666666']\n",
      "['[native-country-> Thailand] Precision: 1.0 Recall: 1.0 FBeta: 1.0']\n",
      "['[native-country-> Greece] Precision: 1.0 Recall: 1.0 FBeta: 1.0']\n",
      "['[native-country-> Ireland] Precision: 1.0 Recall: 1.0 FBeta: 1.0']\n",
      "['[native-country-> Scotland] Precision: 1.0 Recall: 1.0 FBeta: 1.0']\n",
      "\n"
     ]
    }
   ],
   "source": [
    "path=\"nd0821-c3-starter-code/starter\"\n",
    "# df = pd.read_csv(os.path.join(path, \"data/raw/census.csv\"))\n",
    "df = pd.read_csv(\"data/raw/census.csv\")\n",
    "\n",
    "df.columns = df.columns.str.strip()\n",
    "df = df.drop_duplicates()\n",
    "# model = pd.read_pickle(r\"model/model.pkl\")\n",
    "# encoder = pd.read_pickle(r\"model/encoder.pkl\") \n",
    "# lb = pd.read_pickle(r\"model/lb.pkl\")\n",
    "# model = pd.read_pickle(r\"nd0821-c3-starter-code/starter/model/model.pkl\")\n",
    "# encoder = pd.read_pickle(r\"nd0821-c3-starter-code/starter/model/encoder.pkl\") \n",
    "# lb = pd.read_pickle(r\"nd0821-c3-starter-code/starter/model/lb.pkl\")\n",
    "\n",
    "# df = pd.read_csv(\"data/prepared/census.csv\")\n",
    "_, test_set = train_test_split(df, test_size=0.20, random_state=42, stratify=df.salary)\n",
    "# _, test = train_test_split(df, test_size=0.20)\n",
    "\n",
    "\n",
    "for cat in cat_features:\n",
    "        for cls in test_set[cat].unique():\n",
    "            df_temp = test_set[test_set[cat] == cls]\n",
    "            \n",
    "#             lb = LabelEncoder() \n",
    "#             y = lb.fit_transform(np.ravel(y))\n",
    "            slice_metrics = []\n",
    "            encoder = pd.read_pickle(r\"encoder.pkl\") \n",
    "            X_test, y_test, _, _ = process_data(\n",
    "                df_temp,\n",
    "                cat_features,\n",
    "                label= None, encoder=encoder, lb=lb, training=False)\n",
    "\n",
    "#             y_preds = model.predict(X_test)\n",
    "            y_preds=inference(model, X_test)\n",
    "            y =df_temp.iloc[:,-1:]\n",
    "            lb = LabelEncoder() \n",
    "            y = lb.fit_transform(np.ravel(y))\n",
    "            prc, rcl, fb = compute_model_metrics(y, y_preds)\n",
    "            line = \"[%s->%s] Precision: %s \" \\\n",
    "                   \"Recall: %s FBeta: %s\" % (cat, cls, prc, rcl, fb)\n",
    "#             logging.info(line)\n",
    "            slice_metrics.append(line)\n",
    "            print(slice_metrics)\n",
    "        print()\n",
    "#             print(f\"Cat: {cat} Cls: {cls}\")\n",
    "#             #print(f\"y_preds: {y_preds}\")\n",
    "#             print(f\"prc: {prc}, rcl: {rcl}, fb: {fb}\")\n",
    "#         print()\n",
    "#             y =test_set.iloc[:,-1:]\n",
    "            \n",
    "#             lb = LabelEncoder() \n",
    "#             y = lb.fit_transform(np.ravel(y))\n",
    "\n",
    "#             prc, rcl, fb = compute_model_metrics(y_test,\n",
    "#                                                                       y_preds)\n",
    "\n",
    "#             line = \"[%s->%s] Precision: %s \" \\\n",
    "#                    \"Recall: %s FBeta: %s\" % (cat, cls, prc, rcl, fb)\n",
    "#             logging.info(line)\n",
    "#             slice_values.append(line)"
   ]
  },
  {
   "cell_type": "code",
   "execution_count": null,
   "id": "7e8eca17",
   "metadata": {},
   "outputs": [],
   "source": [
    "df[df['native-country'].str.contains(\"Dominican-Republic\")]"
   ]
  },
  {
   "cell_type": "code",
   "execution_count": null,
   "id": "80dc8896",
   "metadata": {},
   "outputs": [],
   "source": [
    "test_set[test_set['native-country'].str.contains(\"Dominican-Republic\")]"
   ]
  },
  {
   "cell_type": "code",
   "execution_count": null,
   "id": "e4260397",
   "metadata": {},
   "outputs": [],
   "source": [
    "df.head()"
   ]
  },
  {
   "cell_type": "code",
   "execution_count": null,
   "id": "139b7699",
   "metadata": {},
   "outputs": [],
   "source": [
    "test_set[\"native-country\"]"
   ]
  },
  {
   "cell_type": "code",
   "execution_count": null,
   "id": "1f7eccc5",
   "metadata": {},
   "outputs": [],
   "source": []
  },
  {
   "cell_type": "code",
   "execution_count": null,
   "id": "f79ca489",
   "metadata": {},
   "outputs": [],
   "source": [
    "for cat in cat_features:\n",
    "        for cls in test_set[cat].unique():\n",
    "            df_temp = test_set[test_set[cat] == cls]\n",
    "\n",
    "#             X_test, y_test, _, _ = process_data(\n",
    "#                 df_temp,\n",
    "#                 cat_features,\n",
    "#                 label=\"salary\", encoder=encoder, lb=lb, training=False)\n",
    "\n",
    "#             y_preds = model.predict(X_test)\n",
    "            y_preds=inference(model, X_test)\n",
    "            \n",
    "            y =test_set.iloc[:,-1:]\n",
    "            \n",
    "            lb = LabelEncoder() \n",
    "            y = lb.fit_transform(np.ravel(y))\n",
    "\n",
    "            prc, rcl, fb = compute_model_metrics(y_test,\n",
    "                                                                      y_preds)\n",
    "\n",
    "            line = \"[%s->%s] Precision: %s \" \\\n",
    "                   \"Recall: %s FBeta: %s\" % (cat, cls, prc, rcl, fb)\n",
    "            logging.info(line)\n",
    "            slice_values.append(line)"
   ]
  },
  {
   "cell_type": "code",
   "execution_count": null,
   "id": "9c1942ba",
   "metadata": {},
   "outputs": [],
   "source": [
    "def slice():\n",
    "    cat_features = [\n",
    "    \"workclass\",\n",
    "    \"education\",\n",
    "    \"marital-status\",\n",
    "    \"occupation\",\n",
    "    \"relationship\",\n",
    "    \"race\",\n",
    "    \"sex\",\n",
    "    \"native-country\",\n",
    "    ]\n",
    "    \n",
    "    for cat in cat_features:\n",
    "        for cls in test_set[cat].unique():\n",
    "            df_temp = test_set[test_set[cat] == cls]\n",
    "\n",
    "            X_test, y_test, _, _ = process_data(\n",
    "                df_temp,\n",
    "                cat_features,\n",
    "                label=\"salary\", encoder=encoder, lb=lb, training=False)\n",
    "\n",
    "            y_preds = model.predict(X_test)\n",
    "\n",
    "            prc, rcl, fb = compute_model_metrics(y_test,\n",
    "                                                                      y_preds)\n",
    "\n",
    "            line = \"[%s->%s] Precision: %s \" \\\n",
    "                   \"Recall: %s FBeta: %s\" % (cat, cls, prc, rcl, fb)\n",
    "            logging.info(line)\n",
    "            return slice_values.append(line)"
   ]
  },
  {
   "cell_type": "code",
   "execution_count": null,
   "id": "5138e293",
   "metadata": {},
   "outputs": [],
   "source": [
    "def check_score():\n",
    "    \"\"\"\n",
    "    Execute score checking\n",
    "    \"\"\"\n",
    "    df = pd.read_csv(\"data/prepared/census.csv\")\n",
    "    _, test = train_test_split(df, test_size=0.20)\n",
    "\n",
    "    trained_model = load(\"data/model/model.joblib\")\n",
    "    encoder = load(\"data/model/encoder.joblib\")\n",
    "    lb = load(\"data/model/lb.joblib\")\n",
    "\n",
    "    slice_values = []\n",
    "\n",
    "    for cat in src.common_functions.get_cat_features():\n",
    "        for cls in test[cat].unique():\n",
    "            df_temp = test[test[cat] == cls]\n",
    "\n",
    "            X_test, y_test, _, _ = src.common_functions.process_data(\n",
    "                df_temp,\n",
    "                categorical_features=src.common_functions.get_cat_features(),\n",
    "                label=\"salary\", encoder=encoder, lb=lb, training=False)\n",
    "\n",
    "            y_preds = trained_model.predict(X_test)\n",
    "\n",
    "            prc, rcl, fb = src.common_functions.compute_model_metrics(y_test,\n",
    "                                                                      y_preds)\n"
   ]
  },
  {
   "cell_type": "code",
   "execution_count": null,
   "id": "a9cabe7e",
   "metadata": {},
   "outputs": [],
   "source": [
    "cat_features"
   ]
  },
  {
   "cell_type": "code",
   "execution_count": null,
   "id": "51362b9d",
   "metadata": {},
   "outputs": [],
   "source": [
    "test_set.head()"
   ]
  },
  {
   "cell_type": "code",
   "execution_count": null,
   "id": "6f00aaed",
   "metadata": {},
   "outputs": [],
   "source": [
    "test_set[\"workclass\"].unique()"
   ]
  },
  {
   "cell_type": "code",
   "execution_count": null,
   "id": "7a2c174f",
   "metadata": {},
   "outputs": [],
   "source": [
    "test_set[\"education\"].unique()"
   ]
  },
  {
   "cell_type": "code",
   "execution_count": null,
   "id": "8ed1c40a",
   "metadata": {},
   "outputs": [],
   "source": [
    "test_set[\"native-country\"].unique()"
   ]
  },
  {
   "cell_type": "code",
   "execution_count": null,
   "id": "90cc65b3",
   "metadata": {},
   "outputs": [],
   "source": [
    "df[\"native-country\"].unique()"
   ]
  },
  {
   "cell_type": "code",
   "execution_count": null,
   "id": "7d2271c4",
   "metadata": {},
   "outputs": [],
   "source": [
    "# df[df[\"native-country\"] == 'Cuba'] \n",
    "df1 = df[df['native-country'].str.contains(\"Cuba\")]\n",
    "\n",
    "df1"
   ]
  },
  {
   "cell_type": "code",
   "execution_count": null,
   "id": "ccb5f184",
   "metadata": {},
   "outputs": [],
   "source": [
    "df.head()"
   ]
  },
  {
   "cell_type": "code",
   "execution_count": null,
   "id": "b4294d17",
   "metadata": {},
   "outputs": [],
   "source": [
    "test_set[[cat_features]].unique()"
   ]
  },
  {
   "cell_type": "code",
   "execution_count": null,
   "id": "d2c6467b",
   "metadata": {},
   "outputs": [],
   "source": []
  },
  {
   "cell_type": "code",
   "execution_count": null,
   "id": "9fc8a0f4",
   "metadata": {},
   "outputs": [],
   "source": [
    "_ , test_set = train_test_split(df, test_size=0.20, random_state=42, stratify=df.salary)"
   ]
  },
  {
   "cell_type": "code",
   "execution_count": null,
   "id": "1e26729c",
   "metadata": {},
   "outputs": [],
   "source": [
    "test_set"
   ]
  },
  {
   "cell_type": "code",
   "execution_count": null,
   "id": "dfb3bafd",
   "metadata": {},
   "outputs": [],
   "source": [
    "slice_values"
   ]
  },
  {
   "cell_type": "code",
   "execution_count": null,
   "id": "8037ac2f",
   "metadata": {},
   "outputs": [],
   "source": []
  },
  {
   "cell_type": "code",
   "execution_count": null,
   "id": "22f0b898",
   "metadata": {},
   "outputs": [],
   "source": [
    "for cls in test_set[cat_features].unique():\n",
    "    df_temp = test_set[test_set[cat_features] == cls]\n",
    "\n",
    "    X_test, y_test, _, _ = process_data(\n",
    "        df_temp,\n",
    "        categorical_features=src.common_functions.get_cat_features(),\n",
    "        label=\"salary\", encoder=encoder, lb=lb, training=False)\n",
    "    y_preds = model.predict(X_test)\n",
    "\n",
    "    precision, recall, fb = compute_model_metrics(y_test, y_preds)\n",
    "\n",
    "    line = \"[%s->%s] Precision: %s \" \\\n",
    "                   \"Recall: %s FBeta: %s\" % (cat_features, cls, precision, recall, fb)\n",
    "    logging.info(line)\n",
    "    slice_values.append(line)\n"
   ]
  },
  {
   "cell_type": "code",
   "execution_count": null,
   "id": "343a3b4e",
   "metadata": {},
   "outputs": [],
   "source": [
    "_ , test_set = train_test_split(df, test_size=0.20, random_state=42, stratify=df.salary)\n",
    "\n",
    "\n",
    "slice_values = []\n",
    "cat_features = [\n",
    "    \"workclass\",\n",
    "    \"education\",\n",
    "    \"marital-status\",\n",
    "    \"occupation\",\n",
    "    \"relationship\",\n",
    "    \"race\",\n",
    "    \"sex\",\n",
    "    \"native-country\",\n",
    "]\n",
    "\n",
    "for cls in test_set[cat_features].unique():\n",
    "    df_temp = test_set[test_set[cat_features] == cls]\n",
    "\n",
    "    X_test, y_test, _, _ = process_data(\n",
    "        df_temp,\n",
    "        categorical_features=src.common_functions.get_cat_features(),\n",
    "        label=\"salary\", encoder=encoder, lb=lb, training=False)\n",
    "\n",
    "        y_preds = model.predict(X_test)\n",
    "\n",
    "        precision, recall, fb = compute_model_metrics(y_test,\n",
    "                                                                      y_preds)\n",
    "\n",
    "        line = \"[%s->%s] Precision: %s \" \\\n",
    "                   \"Recall: %s FBeta: %s\" % (cat_features, cls, precision, recall, fb)\n",
    "        logging.info(line)\n",
    "        slice_values.append(line)\n",
    "\n",
    "with open('data/model/slice_output.txt', 'w') as out:\n",
    "    for slice_value in slice_values:\n",
    "        out.write(slice_value + '\\n')\n"
   ]
  }
 ],
 "metadata": {
  "kernelspec": {
   "display_name": "Python 3 (ipykernel)",
   "language": "python",
   "name": "python3"
  },
  "language_info": {
   "codemirror_mode": {
    "name": "ipython",
    "version": 3
   },
   "file_extension": ".py",
   "mimetype": "text/x-python",
   "name": "python",
   "nbconvert_exporter": "python",
   "pygments_lexer": "ipython3",
   "version": "3.8.13"
  }
 },
 "nbformat": 4,
 "nbformat_minor": 5
}
